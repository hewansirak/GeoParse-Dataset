{
  "cells": [
    {
      "cell_type": "markdown",
      "metadata": {
        "id": "view-in-github",
        "colab_type": "text"
      },
      "source": [
        "<a href=\"https://colab.research.google.com/github/hewansirak/GeoParse-Dataset/blob/main/Task.ipynb\" target=\"_parent\"><img src=\"https://colab.research.google.com/assets/colab-badge.svg\" alt=\"Open In Colab\"/></a>"
      ]
    },
    {
      "cell_type": "code",
      "source": [
        "!pip install GEOparse"
      ],
      "metadata": {
        "colab": {
          "base_uri": "https://localhost:8080/"
        },
        "id": "LNiTh-FZO0Lt",
        "outputId": "4f81e1dd-0fb5-40ff-a36d-30ac0f33dbb0"
      },
      "execution_count": 2,
      "outputs": [
        {
          "output_type": "stream",
          "name": "stdout",
          "text": [
            "Collecting GEOparse\n",
            "  Downloading GEOparse-2.0.4-py3-none-any.whl.metadata (6.5 kB)\n",
            "Requirement already satisfied: numpy>=1.7 in /usr/local/lib/python3.11/dist-packages (from GEOparse) (2.0.2)\n",
            "Requirement already satisfied: pandas>=0.17 in /usr/local/lib/python3.11/dist-packages (from GEOparse) (2.2.2)\n",
            "Requirement already satisfied: requests>=2.21.0 in /usr/local/lib/python3.11/dist-packages (from GEOparse) (2.32.3)\n",
            "Requirement already satisfied: tqdm>=4.31.1 in /usr/local/lib/python3.11/dist-packages (from GEOparse) (4.67.1)\n",
            "Requirement already satisfied: python-dateutil>=2.8.2 in /usr/local/lib/python3.11/dist-packages (from pandas>=0.17->GEOparse) (2.8.2)\n",
            "Requirement already satisfied: pytz>=2020.1 in /usr/local/lib/python3.11/dist-packages (from pandas>=0.17->GEOparse) (2025.1)\n",
            "Requirement already satisfied: tzdata>=2022.7 in /usr/local/lib/python3.11/dist-packages (from pandas>=0.17->GEOparse) (2025.1)\n",
            "Requirement already satisfied: charset-normalizer<4,>=2 in /usr/local/lib/python3.11/dist-packages (from requests>=2.21.0->GEOparse) (3.4.1)\n",
            "Requirement already satisfied: idna<4,>=2.5 in /usr/local/lib/python3.11/dist-packages (from requests>=2.21.0->GEOparse) (3.10)\n",
            "Requirement already satisfied: urllib3<3,>=1.21.1 in /usr/local/lib/python3.11/dist-packages (from requests>=2.21.0->GEOparse) (2.3.0)\n",
            "Requirement already satisfied: certifi>=2017.4.17 in /usr/local/lib/python3.11/dist-packages (from requests>=2.21.0->GEOparse) (2025.1.31)\n",
            "Requirement already satisfied: six>=1.5 in /usr/local/lib/python3.11/dist-packages (from python-dateutil>=2.8.2->pandas>=0.17->GEOparse) (1.17.0)\n",
            "Downloading GEOparse-2.0.4-py3-none-any.whl (29 kB)\n",
            "Installing collected packages: GEOparse\n",
            "Successfully installed GEOparse-2.0.4\n"
          ]
        }
      ]
    },
    {
      "cell_type": "code",
      "source": [
        "! pip install langchain_pinecone openai langchain-community"
      ],
      "metadata": {
        "colab": {
          "base_uri": "https://localhost:8080/"
        },
        "id": "XuxDAxdhPTxE",
        "outputId": "25057533-e24e-4c98-f8a1-38524be2ad32"
      },
      "execution_count": 23,
      "outputs": [
        {
          "output_type": "stream",
          "name": "stdout",
          "text": [
            "Collecting langchain_pinecone\n",
            "  Using cached langchain_pinecone-0.2.3-py3-none-any.whl.metadata (1.3 kB)\n",
            "Requirement already satisfied: openai in /usr/local/lib/python3.11/dist-packages (1.68.2)\n",
            "Collecting langchain-community\n",
            "  Using cached langchain_community-0.3.20-py3-none-any.whl.metadata (2.4 kB)\n",
            "Requirement already satisfied: langchain-core<1.0.0,>=0.3.34 in /usr/local/lib/python3.11/dist-packages (from langchain_pinecone) (0.3.47)\n",
            "Collecting pinecone<6.0.0,>=5.4.0 (from langchain_pinecone)\n",
            "  Using cached pinecone-5.4.2-py3-none-any.whl.metadata (19 kB)\n",
            "Collecting aiohttp<3.11,>=3.10 (from langchain_pinecone)\n",
            "  Using cached aiohttp-3.10.11-cp311-cp311-manylinux_2_17_x86_64.manylinux2014_x86_64.whl.metadata (7.7 kB)\n",
            "Collecting numpy<2.0.0,>=1.26.4 (from langchain_pinecone)\n",
            "  Using cached numpy-1.26.4-cp311-cp311-manylinux_2_17_x86_64.manylinux2014_x86_64.whl.metadata (61 kB)\n",
            "Collecting langchain-tests<1.0.0,>=0.3.7 (from langchain_pinecone)\n",
            "  Using cached langchain_tests-0.3.17-py3-none-any.whl.metadata (3.1 kB)\n",
            "Requirement already satisfied: anyio<5,>=3.5.0 in /usr/local/lib/python3.11/dist-packages (from openai) (4.9.0)\n",
            "Requirement already satisfied: distro<2,>=1.7.0 in /usr/local/lib/python3.11/dist-packages (from openai) (1.9.0)\n",
            "Requirement already satisfied: httpx<1,>=0.23.0 in /usr/local/lib/python3.11/dist-packages (from openai) (0.28.1)\n",
            "Requirement already satisfied: jiter<1,>=0.4.0 in /usr/local/lib/python3.11/dist-packages (from openai) (0.9.0)\n",
            "Requirement already satisfied: pydantic<3,>=1.9.0 in /usr/local/lib/python3.11/dist-packages (from openai) (2.10.6)\n",
            "Requirement already satisfied: sniffio in /usr/local/lib/python3.11/dist-packages (from openai) (1.3.1)\n",
            "Requirement already satisfied: tqdm>4 in /usr/local/lib/python3.11/dist-packages (from openai) (4.67.1)\n",
            "Requirement already satisfied: typing-extensions<5,>=4.11 in /usr/local/lib/python3.11/dist-packages (from openai) (4.12.2)\n",
            "Requirement already satisfied: langchain<1.0.0,>=0.3.21 in /usr/local/lib/python3.11/dist-packages (from langchain-community) (0.3.21)\n",
            "Requirement already satisfied: SQLAlchemy<3,>=1.4 in /usr/local/lib/python3.11/dist-packages (from langchain-community) (2.0.39)\n",
            "Requirement already satisfied: requests<3,>=2 in /usr/local/lib/python3.11/dist-packages (from langchain-community) (2.32.3)\n",
            "Requirement already satisfied: PyYAML>=5.3 in /usr/local/lib/python3.11/dist-packages (from langchain-community) (6.0.2)\n",
            "Requirement already satisfied: tenacity!=8.4.0,<10,>=8.1.0 in /usr/local/lib/python3.11/dist-packages (from langchain-community) (9.0.0)\n",
            "Collecting dataclasses-json<0.7,>=0.5.7 (from langchain-community)\n",
            "  Using cached dataclasses_json-0.6.7-py3-none-any.whl.metadata (25 kB)\n",
            "Collecting pydantic-settings<3.0.0,>=2.4.0 (from langchain-community)\n",
            "  Using cached pydantic_settings-2.8.1-py3-none-any.whl.metadata (3.5 kB)\n",
            "Requirement already satisfied: langsmith<0.4,>=0.1.125 in /usr/local/lib/python3.11/dist-packages (from langchain-community) (0.3.18)\n",
            "Collecting httpx-sse<1.0.0,>=0.4.0 (from langchain-community)\n",
            "  Using cached httpx_sse-0.4.0-py3-none-any.whl.metadata (9.0 kB)\n",
            "Requirement already satisfied: aiohappyeyeballs>=2.3.0 in /usr/local/lib/python3.11/dist-packages (from aiohttp<3.11,>=3.10->langchain_pinecone) (2.6.1)\n",
            "Requirement already satisfied: aiosignal>=1.1.2 in /usr/local/lib/python3.11/dist-packages (from aiohttp<3.11,>=3.10->langchain_pinecone) (1.3.2)\n",
            "Requirement already satisfied: attrs>=17.3.0 in /usr/local/lib/python3.11/dist-packages (from aiohttp<3.11,>=3.10->langchain_pinecone) (25.3.0)\n",
            "Requirement already satisfied: frozenlist>=1.1.1 in /usr/local/lib/python3.11/dist-packages (from aiohttp<3.11,>=3.10->langchain_pinecone) (1.5.0)\n",
            "Requirement already satisfied: multidict<7.0,>=4.5 in /usr/local/lib/python3.11/dist-packages (from aiohttp<3.11,>=3.10->langchain_pinecone) (6.2.0)\n",
            "Requirement already satisfied: yarl<2.0,>=1.12.0 in /usr/local/lib/python3.11/dist-packages (from aiohttp<3.11,>=3.10->langchain_pinecone) (1.18.3)\n",
            "Requirement already satisfied: idna>=2.8 in /usr/local/lib/python3.11/dist-packages (from anyio<5,>=3.5.0->openai) (3.10)\n",
            "Collecting marshmallow<4.0.0,>=3.18.0 (from dataclasses-json<0.7,>=0.5.7->langchain-community)\n",
            "  Using cached marshmallow-3.26.1-py3-none-any.whl.metadata (7.3 kB)\n",
            "Collecting typing-inspect<1,>=0.4.0 (from dataclasses-json<0.7,>=0.5.7->langchain-community)\n",
            "  Using cached typing_inspect-0.9.0-py3-none-any.whl.metadata (1.5 kB)\n",
            "Requirement already satisfied: certifi in /usr/local/lib/python3.11/dist-packages (from httpx<1,>=0.23.0->openai) (2025.1.31)\n",
            "Requirement already satisfied: httpcore==1.* in /usr/local/lib/python3.11/dist-packages (from httpx<1,>=0.23.0->openai) (1.0.7)\n",
            "Requirement already satisfied: h11<0.15,>=0.13 in /usr/local/lib/python3.11/dist-packages (from httpcore==1.*->httpx<1,>=0.23.0->openai) (0.14.0)\n",
            "Requirement already satisfied: langchain-text-splitters<1.0.0,>=0.3.7 in /usr/local/lib/python3.11/dist-packages (from langchain<1.0.0,>=0.3.21->langchain-community) (0.3.7)\n",
            "Requirement already satisfied: jsonpatch<2.0,>=1.33 in /usr/local/lib/python3.11/dist-packages (from langchain-core<1.0.0,>=0.3.34->langchain_pinecone) (1.33)\n",
            "Requirement already satisfied: packaging<25,>=23.2 in /usr/local/lib/python3.11/dist-packages (from langchain-core<1.0.0,>=0.3.34->langchain_pinecone) (24.2)\n",
            "Collecting langchain-core<1.0.0,>=0.3.34 (from langchain_pinecone)\n",
            "  Using cached langchain_core-0.3.49-py3-none-any.whl.metadata (5.9 kB)\n",
            "Requirement already satisfied: pytest<9,>=7 in /usr/local/lib/python3.11/dist-packages (from langchain-tests<1.0.0,>=0.3.7->langchain_pinecone) (8.3.5)\n",
            "Collecting pytest-asyncio<1,>=0.20 (from langchain-tests<1.0.0,>=0.3.7->langchain_pinecone)\n",
            "  Using cached pytest_asyncio-0.26.0-py3-none-any.whl.metadata (4.0 kB)\n",
            "Collecting syrupy<5,>=4 (from langchain-tests<1.0.0,>=0.3.7->langchain_pinecone)\n",
            "  Using cached syrupy-4.9.1-py3-none-any.whl.metadata (38 kB)\n",
            "Collecting pytest-socket<1,>=0.6.0 (from langchain-tests<1.0.0,>=0.3.7->langchain_pinecone)\n",
            "  Using cached pytest_socket-0.7.0-py3-none-any.whl.metadata (6.7 kB)\n",
            "Requirement already satisfied: orjson<4.0.0,>=3.9.14 in /usr/local/lib/python3.11/dist-packages (from langsmith<0.4,>=0.1.125->langchain-community) (3.10.15)\n",
            "Requirement already satisfied: requests-toolbelt<2.0.0,>=1.0.0 in /usr/local/lib/python3.11/dist-packages (from langsmith<0.4,>=0.1.125->langchain-community) (1.0.0)\n",
            "Requirement already satisfied: zstandard<0.24.0,>=0.23.0 in /usr/local/lib/python3.11/dist-packages (from langsmith<0.4,>=0.1.125->langchain-community) (0.23.0)\n",
            "Collecting pinecone-plugin-inference<4.0.0,>=2.0.0 (from pinecone<6.0.0,>=5.4.0->langchain_pinecone)\n",
            "  Using cached pinecone_plugin_inference-3.1.0-py3-none-any.whl.metadata (2.2 kB)\n",
            "Collecting pinecone-plugin-interface<0.0.8,>=0.0.7 (from pinecone<6.0.0,>=5.4.0->langchain_pinecone)\n",
            "  Using cached pinecone_plugin_interface-0.0.7-py3-none-any.whl.metadata (1.2 kB)\n",
            "Requirement already satisfied: python-dateutil>=2.5.3 in /usr/local/lib/python3.11/dist-packages (from pinecone<6.0.0,>=5.4.0->langchain_pinecone) (2.8.2)\n",
            "Requirement already satisfied: urllib3>=1.26.0 in /usr/local/lib/python3.11/dist-packages (from pinecone<6.0.0,>=5.4.0->langchain_pinecone) (2.3.0)\n",
            "Requirement already satisfied: annotated-types>=0.6.0 in /usr/local/lib/python3.11/dist-packages (from pydantic<3,>=1.9.0->openai) (0.7.0)\n",
            "Requirement already satisfied: pydantic-core==2.27.2 in /usr/local/lib/python3.11/dist-packages (from pydantic<3,>=1.9.0->openai) (2.27.2)\n",
            "Collecting python-dotenv>=0.21.0 (from pydantic-settings<3.0.0,>=2.4.0->langchain-community)\n",
            "  Using cached python_dotenv-1.1.0-py3-none-any.whl.metadata (24 kB)\n",
            "Requirement already satisfied: charset-normalizer<4,>=2 in /usr/local/lib/python3.11/dist-packages (from requests<3,>=2->langchain-community) (3.4.1)\n",
            "Requirement already satisfied: greenlet!=0.4.17 in /usr/local/lib/python3.11/dist-packages (from SQLAlchemy<3,>=1.4->langchain-community) (3.1.1)\n",
            "Requirement already satisfied: jsonpointer>=1.9 in /usr/local/lib/python3.11/dist-packages (from jsonpatch<2.0,>=1.33->langchain-core<1.0.0,>=0.3.34->langchain_pinecone) (3.0.0)\n",
            "Requirement already satisfied: iniconfig in /usr/local/lib/python3.11/dist-packages (from pytest<9,>=7->langchain-tests<1.0.0,>=0.3.7->langchain_pinecone) (2.1.0)\n",
            "Requirement already satisfied: pluggy<2,>=1.5 in /usr/local/lib/python3.11/dist-packages (from pytest<9,>=7->langchain-tests<1.0.0,>=0.3.7->langchain_pinecone) (1.5.0)\n",
            "Requirement already satisfied: six>=1.5 in /usr/local/lib/python3.11/dist-packages (from python-dateutil>=2.5.3->pinecone<6.0.0,>=5.4.0->langchain_pinecone) (1.17.0)\n",
            "Collecting mypy-extensions>=0.3.0 (from typing-inspect<1,>=0.4.0->dataclasses-json<0.7,>=0.5.7->langchain-community)\n",
            "  Using cached mypy_extensions-1.0.0-py3-none-any.whl.metadata (1.1 kB)\n",
            "Requirement already satisfied: propcache>=0.2.0 in /usr/local/lib/python3.11/dist-packages (from yarl<2.0,>=1.12.0->aiohttp<3.11,>=3.10->langchain_pinecone) (0.3.0)\n",
            "Using cached langchain_pinecone-0.2.3-py3-none-any.whl (11 kB)\n",
            "Using cached langchain_community-0.3.20-py3-none-any.whl (2.5 MB)\n",
            "Using cached aiohttp-3.10.11-cp311-cp311-manylinux_2_17_x86_64.manylinux2014_x86_64.whl (1.3 MB)\n",
            "Using cached dataclasses_json-0.6.7-py3-none-any.whl (28 kB)\n",
            "Using cached httpx_sse-0.4.0-py3-none-any.whl (7.8 kB)\n",
            "Using cached langchain_tests-0.3.17-py3-none-any.whl (39 kB)\n",
            "Using cached langchain_core-0.3.49-py3-none-any.whl (420 kB)\n",
            "Using cached numpy-1.26.4-cp311-cp311-manylinux_2_17_x86_64.manylinux2014_x86_64.whl (18.3 MB)\n",
            "Using cached pinecone-5.4.2-py3-none-any.whl (427 kB)\n",
            "Using cached pydantic_settings-2.8.1-py3-none-any.whl (30 kB)\n",
            "Using cached marshmallow-3.26.1-py3-none-any.whl (50 kB)\n",
            "Using cached pinecone_plugin_inference-3.1.0-py3-none-any.whl (87 kB)\n",
            "Using cached pinecone_plugin_interface-0.0.7-py3-none-any.whl (6.2 kB)\n",
            "Using cached pytest_asyncio-0.26.0-py3-none-any.whl (19 kB)\n",
            "Using cached pytest_socket-0.7.0-py3-none-any.whl (6.8 kB)\n",
            "Using cached python_dotenv-1.1.0-py3-none-any.whl (20 kB)\n",
            "Using cached syrupy-4.9.1-py3-none-any.whl (52 kB)\n",
            "Using cached typing_inspect-0.9.0-py3-none-any.whl (8.8 kB)\n",
            "Using cached mypy_extensions-1.0.0-py3-none-any.whl (4.7 kB)\n",
            "Installing collected packages: python-dotenv, pinecone-plugin-interface, numpy, mypy-extensions, marshmallow, httpx-sse, typing-inspect, syrupy, pytest-socket, pytest-asyncio, pinecone-plugin-inference, aiohttp, pydantic-settings, pinecone, dataclasses-json, langchain-core, langchain-tests, langchain_pinecone, langchain-community\n",
            "  Attempting uninstall: numpy\n",
            "    Found existing installation: numpy 2.0.2\n",
            "    Uninstalling numpy-2.0.2:\n",
            "      Successfully uninstalled numpy-2.0.2\n",
            "  Attempting uninstall: aiohttp\n",
            "    Found existing installation: aiohttp 3.11.14\n",
            "    Uninstalling aiohttp-3.11.14:\n",
            "      Successfully uninstalled aiohttp-3.11.14\n",
            "  Attempting uninstall: langchain-core\n",
            "    Found existing installation: langchain-core 0.3.47\n",
            "    Uninstalling langchain-core-0.3.47:\n",
            "      Successfully uninstalled langchain-core-0.3.47\n",
            "Successfully installed aiohttp-3.10.11 dataclasses-json-0.6.7 httpx-sse-0.4.0 langchain-community-0.3.20 langchain-core-0.3.49 langchain-tests-0.3.17 langchain_pinecone-0.2.3 marshmallow-3.26.1 mypy-extensions-1.0.0 numpy-1.26.4 pinecone-5.4.2 pinecone-plugin-inference-3.1.0 pinecone-plugin-interface-0.0.7 pydantic-settings-2.8.1 pytest-asyncio-0.26.0 pytest-socket-0.7.0 python-dotenv-1.1.0 syrupy-4.9.1 typing-inspect-0.9.0\n"
          ]
        }
      ]
    },
    {
      "cell_type": "code",
      "execution_count": 3,
      "metadata": {
        "id": "vfBH7ctnOrIz"
      },
      "outputs": [],
      "source": [
        "import pandas as pd\n",
        "import matplotlib.pyplot as plt\n",
        "import seaborn as sns\n",
        "import GEOparse"
      ]
    },
    {
      "cell_type": "code",
      "execution_count": 4,
      "metadata": {
        "colab": {
          "base_uri": "https://localhost:8080/"
        },
        "id": "ZbZeh6K7OrI2",
        "outputId": "9d5fc6a2-5cf0-44f8-d8d5-b3904237c3c0"
      },
      "outputs": [
        {
          "output_type": "stream",
          "name": "stderr",
          "text": [
            "28-Mar-2025 14:50:30 INFO GEOparse - Downloading ftp://ftp.ncbi.nlm.nih.gov/geo/series/GSE12nnn/GSE12277/soft/GSE12277_family.soft.gz to ./data/GEO/GSE12277_family.soft.gz\n",
            "INFO:GEOparse:Downloading ftp://ftp.ncbi.nlm.nih.gov/geo/series/GSE12nnn/GSE12277/soft/GSE12277_family.soft.gz to ./data/GEO/GSE12277_family.soft.gz\n",
            "100%|██████████| 19.8M/19.8M [00:03<00:00, 5.65MB/s]\n",
            "28-Mar-2025 14:50:36 DEBUG downloader - Size validation passed\n",
            "DEBUG:GEOparse:Size validation passed\n",
            "28-Mar-2025 14:50:36 DEBUG downloader - Moving /tmp/tmpzb8k5pix to /content/data/GEO/GSE12277_family.soft.gz\n",
            "DEBUG:GEOparse:Moving /tmp/tmpzb8k5pix to /content/data/GEO/GSE12277_family.soft.gz\n",
            "28-Mar-2025 14:50:36 DEBUG downloader - Successfully downloaded ftp://ftp.ncbi.nlm.nih.gov/geo/series/GSE12nnn/GSE12277/soft/GSE12277_family.soft.gz\n",
            "DEBUG:GEOparse:Successfully downloaded ftp://ftp.ncbi.nlm.nih.gov/geo/series/GSE12nnn/GSE12277/soft/GSE12277_family.soft.gz\n",
            "28-Mar-2025 14:50:36 INFO GEOparse - Parsing ./data/GEO/GSE12277_family.soft.gz: \n",
            "INFO:GEOparse:Parsing ./data/GEO/GSE12277_family.soft.gz: \n",
            "28-Mar-2025 14:50:36 DEBUG GEOparse - DATABASE: GeoMiame\n",
            "DEBUG:GEOparse:DATABASE: GeoMiame\n",
            "28-Mar-2025 14:50:36 DEBUG GEOparse - SERIES: GSE12277\n",
            "DEBUG:GEOparse:SERIES: GSE12277\n",
            "28-Mar-2025 14:50:36 DEBUG GEOparse - PLATFORM: GPL570\n",
            "DEBUG:GEOparse:PLATFORM: GPL570\n",
            "/usr/local/lib/python3.11/dist-packages/GEOparse/GEOparse.py:401: DtypeWarning: Columns (2) have mixed types. Specify dtype option on import or set low_memory=False.\n",
            "  return read_csv(StringIO(data), index_col=None, sep=\"\\t\")\n",
            "28-Mar-2025 14:50:40 DEBUG GEOparse - SAMPLE: GSM308237\n",
            "DEBUG:GEOparse:SAMPLE: GSM308237\n",
            "28-Mar-2025 14:50:40 DEBUG GEOparse - SAMPLE: GSM308239\n",
            "DEBUG:GEOparse:SAMPLE: GSM308239\n",
            "28-Mar-2025 14:50:41 DEBUG GEOparse - SAMPLE: GSM308241\n",
            "DEBUG:GEOparse:SAMPLE: GSM308241\n",
            "28-Mar-2025 14:50:41 DEBUG GEOparse - SAMPLE: GSM308242\n",
            "DEBUG:GEOparse:SAMPLE: GSM308242\n",
            "28-Mar-2025 14:50:42 DEBUG GEOparse - SAMPLE: GSM308244\n",
            "DEBUG:GEOparse:SAMPLE: GSM308244\n",
            "28-Mar-2025 14:50:42 DEBUG GEOparse - SAMPLE: GSM308245\n",
            "DEBUG:GEOparse:SAMPLE: GSM308245\n",
            "28-Mar-2025 14:50:42 DEBUG GEOparse - SAMPLE: GSM308246\n",
            "DEBUG:GEOparse:SAMPLE: GSM308246\n",
            "28-Mar-2025 14:50:42 DEBUG GEOparse - SAMPLE: GSM308247\n",
            "DEBUG:GEOparse:SAMPLE: GSM308247\n",
            "28-Mar-2025 14:50:42 DEBUG GEOparse - SAMPLE: GSM308254\n",
            "DEBUG:GEOparse:SAMPLE: GSM308254\n",
            "28-Mar-2025 14:50:43 DEBUG GEOparse - SAMPLE: GSM308255\n",
            "DEBUG:GEOparse:SAMPLE: GSM308255\n",
            "28-Mar-2025 14:50:43 DEBUG GEOparse - SAMPLE: GSM308317\n",
            "DEBUG:GEOparse:SAMPLE: GSM308317\n",
            "28-Mar-2025 14:50:43 DEBUG GEOparse - SAMPLE: GSM308461\n",
            "DEBUG:GEOparse:SAMPLE: GSM308461\n",
            "28-Mar-2025 14:50:43 DEBUG GEOparse - SAMPLE: GSM308462\n",
            "DEBUG:GEOparse:SAMPLE: GSM308462\n",
            "28-Mar-2025 14:50:43 DEBUG GEOparse - SAMPLE: GSM308463\n",
            "DEBUG:GEOparse:SAMPLE: GSM308463\n",
            "28-Mar-2025 14:50:43 DEBUG GEOparse - SAMPLE: GSM308465\n",
            "DEBUG:GEOparse:SAMPLE: GSM308465\n",
            "28-Mar-2025 14:50:43 DEBUG GEOparse - SAMPLE: GSM308467\n",
            "DEBUG:GEOparse:SAMPLE: GSM308467\n",
            "28-Mar-2025 14:50:44 DEBUG GEOparse - SAMPLE: GSM308469\n",
            "DEBUG:GEOparse:SAMPLE: GSM308469\n",
            "28-Mar-2025 14:50:44 DEBUG GEOparse - SAMPLE: GSM308470\n",
            "DEBUG:GEOparse:SAMPLE: GSM308470\n",
            "28-Mar-2025 14:50:44 DEBUG GEOparse - SAMPLE: GSM308473\n",
            "DEBUG:GEOparse:SAMPLE: GSM308473\n"
          ]
        }
      ],
      "source": [
        "gse= GEOparse.get_GEO(geo=\"GSE12277\", destdir=\"./data/GEO\")\n"
      ]
    },
    {
      "cell_type": "code",
      "execution_count": 5,
      "metadata": {
        "colab": {
          "base_uri": "https://localhost:8080/",
          "height": 423
        },
        "id": "2ih4BQn0OrI4",
        "outputId": "68fd76f0-3be5-4a8d-d8c2-b78dfcb6698d"
      },
      "outputs": [
        {
          "output_type": "execute_result",
          "data": {
            "text/plain": [
              "               ID_REF       VALUE ABS_CALL  DETECTION P-VALUE\n",
              "0      AFFX-BioB-5_at  115.457000        P           0.000581\n",
              "1      AFFX-BioB-M_at  119.770000        P           0.000044\n",
              "2      AFFX-BioB-3_at   84.816300        P           0.000095\n",
              "3      AFFX-BioC-5_at  296.351000        P           0.000052\n",
              "4      AFFX-BioC-3_at  470.652000        P           0.000044\n",
              "...               ...         ...      ...                ...\n",
              "54665      1570631_at   12.766800        P           0.023926\n",
              "54666      1570632_at    1.179860        A           0.780518\n",
              "54667      1570633_at    0.159784        A           0.953857\n",
              "54668      1570635_at    1.926470        A           0.753906\n",
              "54669      1570639_at    4.649640        A           0.398926\n",
              "\n",
              "[54670 rows x 4 columns]"
            ],
            "text/html": [
              "\n",
              "  <div id=\"df-9ed07efc-c726-4b33-b450-a2d851cee115\" class=\"colab-df-container\">\n",
              "    <div>\n",
              "<style scoped>\n",
              "    .dataframe tbody tr th:only-of-type {\n",
              "        vertical-align: middle;\n",
              "    }\n",
              "\n",
              "    .dataframe tbody tr th {\n",
              "        vertical-align: top;\n",
              "    }\n",
              "\n",
              "    .dataframe thead th {\n",
              "        text-align: right;\n",
              "    }\n",
              "</style>\n",
              "<table border=\"1\" class=\"dataframe\">\n",
              "  <thead>\n",
              "    <tr style=\"text-align: right;\">\n",
              "      <th></th>\n",
              "      <th>ID_REF</th>\n",
              "      <th>VALUE</th>\n",
              "      <th>ABS_CALL</th>\n",
              "      <th>DETECTION P-VALUE</th>\n",
              "    </tr>\n",
              "  </thead>\n",
              "  <tbody>\n",
              "    <tr>\n",
              "      <th>0</th>\n",
              "      <td>AFFX-BioB-5_at</td>\n",
              "      <td>115.457000</td>\n",
              "      <td>P</td>\n",
              "      <td>0.000581</td>\n",
              "    </tr>\n",
              "    <tr>\n",
              "      <th>1</th>\n",
              "      <td>AFFX-BioB-M_at</td>\n",
              "      <td>119.770000</td>\n",
              "      <td>P</td>\n",
              "      <td>0.000044</td>\n",
              "    </tr>\n",
              "    <tr>\n",
              "      <th>2</th>\n",
              "      <td>AFFX-BioB-3_at</td>\n",
              "      <td>84.816300</td>\n",
              "      <td>P</td>\n",
              "      <td>0.000095</td>\n",
              "    </tr>\n",
              "    <tr>\n",
              "      <th>3</th>\n",
              "      <td>AFFX-BioC-5_at</td>\n",
              "      <td>296.351000</td>\n",
              "      <td>P</td>\n",
              "      <td>0.000052</td>\n",
              "    </tr>\n",
              "    <tr>\n",
              "      <th>4</th>\n",
              "      <td>AFFX-BioC-3_at</td>\n",
              "      <td>470.652000</td>\n",
              "      <td>P</td>\n",
              "      <td>0.000044</td>\n",
              "    </tr>\n",
              "    <tr>\n",
              "      <th>...</th>\n",
              "      <td>...</td>\n",
              "      <td>...</td>\n",
              "      <td>...</td>\n",
              "      <td>...</td>\n",
              "    </tr>\n",
              "    <tr>\n",
              "      <th>54665</th>\n",
              "      <td>1570631_at</td>\n",
              "      <td>12.766800</td>\n",
              "      <td>P</td>\n",
              "      <td>0.023926</td>\n",
              "    </tr>\n",
              "    <tr>\n",
              "      <th>54666</th>\n",
              "      <td>1570632_at</td>\n",
              "      <td>1.179860</td>\n",
              "      <td>A</td>\n",
              "      <td>0.780518</td>\n",
              "    </tr>\n",
              "    <tr>\n",
              "      <th>54667</th>\n",
              "      <td>1570633_at</td>\n",
              "      <td>0.159784</td>\n",
              "      <td>A</td>\n",
              "      <td>0.953857</td>\n",
              "    </tr>\n",
              "    <tr>\n",
              "      <th>54668</th>\n",
              "      <td>1570635_at</td>\n",
              "      <td>1.926470</td>\n",
              "      <td>A</td>\n",
              "      <td>0.753906</td>\n",
              "    </tr>\n",
              "    <tr>\n",
              "      <th>54669</th>\n",
              "      <td>1570639_at</td>\n",
              "      <td>4.649640</td>\n",
              "      <td>A</td>\n",
              "      <td>0.398926</td>\n",
              "    </tr>\n",
              "  </tbody>\n",
              "</table>\n",
              "<p>54670 rows × 4 columns</p>\n",
              "</div>\n",
              "    <div class=\"colab-df-buttons\">\n",
              "\n",
              "  <div class=\"colab-df-container\">\n",
              "    <button class=\"colab-df-convert\" onclick=\"convertToInteractive('df-9ed07efc-c726-4b33-b450-a2d851cee115')\"\n",
              "            title=\"Convert this dataframe to an interactive table.\"\n",
              "            style=\"display:none;\">\n",
              "\n",
              "  <svg xmlns=\"http://www.w3.org/2000/svg\" height=\"24px\" viewBox=\"0 -960 960 960\">\n",
              "    <path d=\"M120-120v-720h720v720H120Zm60-500h600v-160H180v160Zm220 220h160v-160H400v160Zm0 220h160v-160H400v160ZM180-400h160v-160H180v160Zm440 0h160v-160H620v160ZM180-180h160v-160H180v160Zm440 0h160v-160H620v160Z\"/>\n",
              "  </svg>\n",
              "    </button>\n",
              "\n",
              "  <style>\n",
              "    .colab-df-container {\n",
              "      display:flex;\n",
              "      gap: 12px;\n",
              "    }\n",
              "\n",
              "    .colab-df-convert {\n",
              "      background-color: #E8F0FE;\n",
              "      border: none;\n",
              "      border-radius: 50%;\n",
              "      cursor: pointer;\n",
              "      display: none;\n",
              "      fill: #1967D2;\n",
              "      height: 32px;\n",
              "      padding: 0 0 0 0;\n",
              "      width: 32px;\n",
              "    }\n",
              "\n",
              "    .colab-df-convert:hover {\n",
              "      background-color: #E2EBFA;\n",
              "      box-shadow: 0px 1px 2px rgba(60, 64, 67, 0.3), 0px 1px 3px 1px rgba(60, 64, 67, 0.15);\n",
              "      fill: #174EA6;\n",
              "    }\n",
              "\n",
              "    .colab-df-buttons div {\n",
              "      margin-bottom: 4px;\n",
              "    }\n",
              "\n",
              "    [theme=dark] .colab-df-convert {\n",
              "      background-color: #3B4455;\n",
              "      fill: #D2E3FC;\n",
              "    }\n",
              "\n",
              "    [theme=dark] .colab-df-convert:hover {\n",
              "      background-color: #434B5C;\n",
              "      box-shadow: 0px 1px 3px 1px rgba(0, 0, 0, 0.15);\n",
              "      filter: drop-shadow(0px 1px 2px rgba(0, 0, 0, 0.3));\n",
              "      fill: #FFFFFF;\n",
              "    }\n",
              "  </style>\n",
              "\n",
              "    <script>\n",
              "      const buttonEl =\n",
              "        document.querySelector('#df-9ed07efc-c726-4b33-b450-a2d851cee115 button.colab-df-convert');\n",
              "      buttonEl.style.display =\n",
              "        google.colab.kernel.accessAllowed ? 'block' : 'none';\n",
              "\n",
              "      async function convertToInteractive(key) {\n",
              "        const element = document.querySelector('#df-9ed07efc-c726-4b33-b450-a2d851cee115');\n",
              "        const dataTable =\n",
              "          await google.colab.kernel.invokeFunction('convertToInteractive',\n",
              "                                                    [key], {});\n",
              "        if (!dataTable) return;\n",
              "\n",
              "        const docLinkHtml = 'Like what you see? Visit the ' +\n",
              "          '<a target=\"_blank\" href=https://colab.research.google.com/notebooks/data_table.ipynb>data table notebook</a>'\n",
              "          + ' to learn more about interactive tables.';\n",
              "        element.innerHTML = '';\n",
              "        dataTable['output_type'] = 'display_data';\n",
              "        await google.colab.output.renderOutput(dataTable, element);\n",
              "        const docLink = document.createElement('div');\n",
              "        docLink.innerHTML = docLinkHtml;\n",
              "        element.appendChild(docLink);\n",
              "      }\n",
              "    </script>\n",
              "  </div>\n",
              "\n",
              "\n",
              "<div id=\"df-82cc7ed3-84bd-4914-9b2c-50a6c2ab7a06\">\n",
              "  <button class=\"colab-df-quickchart\" onclick=\"quickchart('df-82cc7ed3-84bd-4914-9b2c-50a6c2ab7a06')\"\n",
              "            title=\"Suggest charts\"\n",
              "            style=\"display:none;\">\n",
              "\n",
              "<svg xmlns=\"http://www.w3.org/2000/svg\" height=\"24px\"viewBox=\"0 0 24 24\"\n",
              "     width=\"24px\">\n",
              "    <g>\n",
              "        <path d=\"M19 3H5c-1.1 0-2 .9-2 2v14c0 1.1.9 2 2 2h14c1.1 0 2-.9 2-2V5c0-1.1-.9-2-2-2zM9 17H7v-7h2v7zm4 0h-2V7h2v10zm4 0h-2v-4h2v4z\"/>\n",
              "    </g>\n",
              "</svg>\n",
              "  </button>\n",
              "\n",
              "<style>\n",
              "  .colab-df-quickchart {\n",
              "      --bg-color: #E8F0FE;\n",
              "      --fill-color: #1967D2;\n",
              "      --hover-bg-color: #E2EBFA;\n",
              "      --hover-fill-color: #174EA6;\n",
              "      --disabled-fill-color: #AAA;\n",
              "      --disabled-bg-color: #DDD;\n",
              "  }\n",
              "\n",
              "  [theme=dark] .colab-df-quickchart {\n",
              "      --bg-color: #3B4455;\n",
              "      --fill-color: #D2E3FC;\n",
              "      --hover-bg-color: #434B5C;\n",
              "      --hover-fill-color: #FFFFFF;\n",
              "      --disabled-bg-color: #3B4455;\n",
              "      --disabled-fill-color: #666;\n",
              "  }\n",
              "\n",
              "  .colab-df-quickchart {\n",
              "    background-color: var(--bg-color);\n",
              "    border: none;\n",
              "    border-radius: 50%;\n",
              "    cursor: pointer;\n",
              "    display: none;\n",
              "    fill: var(--fill-color);\n",
              "    height: 32px;\n",
              "    padding: 0;\n",
              "    width: 32px;\n",
              "  }\n",
              "\n",
              "  .colab-df-quickchart:hover {\n",
              "    background-color: var(--hover-bg-color);\n",
              "    box-shadow: 0 1px 2px rgba(60, 64, 67, 0.3), 0 1px 3px 1px rgba(60, 64, 67, 0.15);\n",
              "    fill: var(--button-hover-fill-color);\n",
              "  }\n",
              "\n",
              "  .colab-df-quickchart-complete:disabled,\n",
              "  .colab-df-quickchart-complete:disabled:hover {\n",
              "    background-color: var(--disabled-bg-color);\n",
              "    fill: var(--disabled-fill-color);\n",
              "    box-shadow: none;\n",
              "  }\n",
              "\n",
              "  .colab-df-spinner {\n",
              "    border: 2px solid var(--fill-color);\n",
              "    border-color: transparent;\n",
              "    border-bottom-color: var(--fill-color);\n",
              "    animation:\n",
              "      spin 1s steps(1) infinite;\n",
              "  }\n",
              "\n",
              "  @keyframes spin {\n",
              "    0% {\n",
              "      border-color: transparent;\n",
              "      border-bottom-color: var(--fill-color);\n",
              "      border-left-color: var(--fill-color);\n",
              "    }\n",
              "    20% {\n",
              "      border-color: transparent;\n",
              "      border-left-color: var(--fill-color);\n",
              "      border-top-color: var(--fill-color);\n",
              "    }\n",
              "    30% {\n",
              "      border-color: transparent;\n",
              "      border-left-color: var(--fill-color);\n",
              "      border-top-color: var(--fill-color);\n",
              "      border-right-color: var(--fill-color);\n",
              "    }\n",
              "    40% {\n",
              "      border-color: transparent;\n",
              "      border-right-color: var(--fill-color);\n",
              "      border-top-color: var(--fill-color);\n",
              "    }\n",
              "    60% {\n",
              "      border-color: transparent;\n",
              "      border-right-color: var(--fill-color);\n",
              "    }\n",
              "    80% {\n",
              "      border-color: transparent;\n",
              "      border-right-color: var(--fill-color);\n",
              "      border-bottom-color: var(--fill-color);\n",
              "    }\n",
              "    90% {\n",
              "      border-color: transparent;\n",
              "      border-bottom-color: var(--fill-color);\n",
              "    }\n",
              "  }\n",
              "</style>\n",
              "\n",
              "  <script>\n",
              "    async function quickchart(key) {\n",
              "      const quickchartButtonEl =\n",
              "        document.querySelector('#' + key + ' button');\n",
              "      quickchartButtonEl.disabled = true;  // To prevent multiple clicks.\n",
              "      quickchartButtonEl.classList.add('colab-df-spinner');\n",
              "      try {\n",
              "        const charts = await google.colab.kernel.invokeFunction(\n",
              "            'suggestCharts', [key], {});\n",
              "      } catch (error) {\n",
              "        console.error('Error during call to suggestCharts:', error);\n",
              "      }\n",
              "      quickchartButtonEl.classList.remove('colab-df-spinner');\n",
              "      quickchartButtonEl.classList.add('colab-df-quickchart-complete');\n",
              "    }\n",
              "    (() => {\n",
              "      let quickchartButtonEl =\n",
              "        document.querySelector('#df-82cc7ed3-84bd-4914-9b2c-50a6c2ab7a06 button');\n",
              "      quickchartButtonEl.style.display =\n",
              "        google.colab.kernel.accessAllowed ? 'block' : 'none';\n",
              "    })();\n",
              "  </script>\n",
              "</div>\n",
              "\n",
              "    </div>\n",
              "  </div>\n"
            ],
            "application/vnd.google.colaboratory.intrinsic+json": {
              "type": "dataframe",
              "variable_name": "data",
              "summary": "{\n  \"name\": \"data\",\n  \"rows\": 54675,\n  \"fields\": [\n    {\n      \"column\": \"ID_REF\",\n      \"properties\": {\n        \"dtype\": \"string\",\n        \"num_unique_values\": 54675,\n        \"samples\": [\n          \"228711_at\",\n          \"207619_at\",\n          \"234409_at\"\n        ],\n        \"semantic_type\": \"\",\n        \"description\": \"\"\n      }\n    },\n    {\n      \"column\": \"VALUE\",\n      \"properties\": {\n        \"dtype\": \"number\",\n        \"std\": 354.7283800742087,\n        \"min\": 0.0205122,\n        \"max\": 7157.12,\n        \"num_unique_values\": 53739,\n        \"samples\": [\n          5.98638,\n          0.515689,\n          57.3173\n        ],\n        \"semantic_type\": \"\",\n        \"description\": \"\"\n      }\n    },\n    {\n      \"column\": \"ABS_CALL\",\n      \"properties\": {\n        \"dtype\": \"category\",\n        \"num_unique_values\": 3,\n        \"samples\": [\n          \"P\",\n          \"A\",\n          \"M\"\n        ],\n        \"semantic_type\": \"\",\n        \"description\": \"\"\n      }\n    },\n    {\n      \"column\": \"DETECTION P-VALUE\",\n      \"properties\": {\n        \"dtype\": \"number\",\n        \"std\": 0.31295706982989874,\n        \"min\": 2.6068e-13,\n        \"max\": 0.999756,\n        \"num_unique_values\": 632,\n        \"samples\": [\n          0.888916,\n          0.883789,\n          0.568115\n        ],\n        \"semantic_type\": \"\",\n        \"description\": \"\"\n      }\n    }\n  ]\n}"
            }
          },
          "metadata": {},
          "execution_count": 5
        }
      ],
      "source": [
        "gsm= gse.gsms[\"GSM308246\"]\n",
        "data= gsm.table\n",
        "data.head(-5)"
      ]
    },
    {
      "cell_type": "code",
      "execution_count": 6,
      "metadata": {
        "colab": {
          "base_uri": "https://localhost:8080/"
        },
        "id": "X4HuMum-OrI4",
        "outputId": "84bbbbd5-f17f-4c01-b581-b38a27afa88e"
      },
      "outputs": [
        {
          "output_type": "stream",
          "name": "stdout",
          "text": [
            "Metadata:\n",
            "title: ['Hematopoietic Progenitor Cells of Different Donor Age']\n",
            "geo_accession: ['GSE12277']\n",
            "status: ['Public on Jun 12 2009']\n",
            "submission_date: ['Jul 29 2008']\n",
            "last_update_date: ['Mar 25 2019']\n",
            "pubmed_id: ['19513108']\n",
            "summary: ['In this series we have analyzed the effect of donor age on the gene expression profile of human hematopoietic stem and progenitor cells (HPC). Cells were taken from umbilical cord blood (CB) or from G-CSF mobilized blood of healthy donors for allogeneic blood stem cell transplantation.']\n",
            "overall_design: ['Hematopoietic progenitor cells (HPC) were isolated within the CD34+ cell fraction from fresh human cord blood (CB) or from G-CSF mobilized peripheral blood (PB) as described in detail before (Wagner et al., Blood, 2004, 104:675-684; Wagner et al., Stem cells, 2005, 23:1180-1191; Wagner et al., 2007, 10:2638-2657). Differential gene expression was subsequently compared in the CD34+ samples of different donor age.']\n",
            "type: ['Expression profiling by array']\n",
            "contributor: ['Wolfgang,,Wagner', 'Simone,,Bork', 'Patrick,,Horn', 'Anthony,D,Ho']\n",
            "sample_id: ['GSM308237', 'GSM308239', 'GSM308241', 'GSM308242', 'GSM308244', 'GSM308245', 'GSM308246', 'GSM308247', 'GSM308254', 'GSM308255', 'GSM308317', 'GSM308461', 'GSM308462', 'GSM308463', 'GSM308465', 'GSM308467', 'GSM308469', 'GSM308470', 'GSM308473']\n",
            "contact_name: ['Wolfgang,,Wagner']\n",
            "contact_email: ['wwagner@ukaachen.de']\n",
            "contact_phone: ['+49 241 8088611']\n",
            "contact_laboratory: ['Stem Cell Biology and Cellular Engineering']\n",
            "contact_department: ['Helmholtz Institute for Biomedical Engineering']\n",
            "contact_institute: ['RWTH Aachen University']\n",
            "contact_address: ['Pauwelsstrasse 20']\n",
            "contact_city: ['Aachen']\n",
            "contact_zip/postal_code: ['52074']\n",
            "contact_country: ['Germany']\n",
            "supplementary_file: ['ftp://ftp.ncbi.nlm.nih.gov/geo/series/GSE12nnn/GSE12277/suppl/GSE12277_RAW.tar']\n",
            "platform_id: ['GPL570']\n",
            "platform_taxid: ['9606']\n",
            "sample_taxid: ['9606']\n",
            "relation: ['BioProject: https://www.ncbi.nlm.nih.gov/bioproject/PRJNA113665']\n"
          ]
        }
      ],
      "source": [
        "print(\"Metadata:\")\n",
        "for key, value in gse.metadata.items():\n",
        "    print(f\"{key}: {value}\")\n"
      ]
    },
    {
      "cell_type": "code",
      "execution_count": 49,
      "metadata": {
        "colab": {
          "base_uri": "https://localhost:8080/"
        },
        "id": "8_X3bBW8OrI5",
        "outputId": "44b2eb3a-6c50-4284-c4e9-618f375175c3"
      },
      "outputs": [
        {
          "output_type": "stream",
          "name": "stdout",
          "text": [
            "<class 'pandas.core.frame.DataFrame'>\n",
            "RangeIndex: 54675 entries, 0 to 54674\n",
            "Data columns (total 4 columns):\n",
            " #   Column             Non-Null Count  Dtype  \n",
            "---  ------             --------------  -----  \n",
            " 0   ID_REF             54675 non-null  object \n",
            " 1   VALUE              54675 non-null  float64\n",
            " 2   ABS_CALL           54675 non-null  float64\n",
            " 3   DETECTION P-VALUE  54675 non-null  float64\n",
            "dtypes: float64(3), object(1)\n",
            "memory usage: 1.7+ MB\n",
            "None\n"
          ]
        }
      ],
      "source": [
        "print(data.info())"
      ]
    },
    {
      "cell_type": "code",
      "execution_count": 50,
      "metadata": {
        "colab": {
          "base_uri": "https://localhost:8080/"
        },
        "id": "ClpD5oJ7OrI6",
        "outputId": "e2b685e9-f45c-46ce-ce44-fe34161e79d4"
      },
      "outputs": [
        {
          "output_type": "stream",
          "name": "stdout",
          "text": [
            "ID_REF               0\n",
            "VALUE                0\n",
            "ABS_CALL             0\n",
            "DETECTION P-VALUE    0\n",
            "dtype: int64\n"
          ]
        }
      ],
      "source": [
        "print(data.isnull().sum())"
      ]
    },
    {
      "cell_type": "markdown",
      "metadata": {
        "id": "WEX98kdIOrI6"
      },
      "source": [
        "We don't have any null value here so we don't drop any row/col"
      ]
    },
    {
      "cell_type": "code",
      "execution_count": 51,
      "metadata": {
        "colab": {
          "base_uri": "https://localhost:8080/"
        },
        "id": "oOxQ7ihkOrI7",
        "outputId": "5d65d0ec-290b-44f6-b82e-f1e5f4d6addc"
      },
      "outputs": [
        {
          "output_type": "stream",
          "name": "stdout",
          "text": [
            "              VALUE      ABS_CALL  DETECTION P-VALUE\n",
            "count  54675.000000  54675.000000       5.467500e+04\n",
            "mean       0.011141      0.421664       2.703439e-01\n",
            "std        0.049563      0.485910       3.129571e-01\n",
            "min        0.000000      0.000000       2.606800e-13\n",
            "25%        0.000485      0.000000       2.929690e-03\n",
            "50%        0.001632      0.000000       1.115720e-01\n",
            "75%        0.006293      1.000000       5.000000e-01\n",
            "max        1.000000      1.000000       9.997560e-01\n"
          ]
        }
      ],
      "source": [
        "print(data.describe())"
      ]
    },
    {
      "cell_type": "code",
      "execution_count": 52,
      "metadata": {
        "colab": {
          "base_uri": "https://localhost:8080/"
        },
        "id": "iEiCGdyHOrI7",
        "outputId": "668e8c46-f0c8-4bea-823d-c806e6bfe75c"
      },
      "outputs": [
        {
          "output_type": "stream",
          "name": "stdout",
          "text": [
            "ABS_CALL\n",
            "0.0    30772\n",
            "1.0    22206\n",
            "0.5     1697\n",
            "Name: count, dtype: int64\n"
          ]
        }
      ],
      "source": [
        "print(data['ABS_CALL'].value_counts())"
      ]
    },
    {
      "cell_type": "markdown",
      "metadata": {
        "id": "SJHUjpJ6OrI8"
      },
      "source": [
        "This shows us that our categorical value called 'ABS_CALL' has three catergories with it's respective count"
      ]
    },
    {
      "cell_type": "code",
      "execution_count": 54,
      "metadata": {
        "colab": {
          "base_uri": "https://localhost:8080/",
          "height": 489
        },
        "id": "-RCwJdZyOrI8",
        "outputId": "9e9abacd-4640-4d59-af27-03f05221c2dc"
      },
      "outputs": [
        {
          "output_type": "execute_result",
          "data": {
            "text/plain": [
              "Text(0.5, 1.0, 'ABS_CALL category count')"
            ]
          },
          "metadata": {},
          "execution_count": 54
        },
        {
          "output_type": "display_data",
          "data": {
            "text/plain": [
              "<Figure size 640x480 with 1 Axes>"
            ],
            "image/png": "[encoded data removed]"
          },
          "metadata": {}
        }
      ],
      "source": [
        "sns.countplot(x=\"ABS_CALL\", data=data)\n",
        "plt.title(\"ABS_CALL category count\")"
      ]
    },
    {
      "cell_type": "code",
      "execution_count": 55,
      "metadata": {
        "id": "etuzg9GtOrI8"
      },
      "outputs": [],
      "source": [
        "from sklearn.preprocessing import MinMaxScaler"
      ]
    },
    {
      "cell_type": "code",
      "execution_count": 56,
      "metadata": {
        "id": "WIP45OeCOrI9"
      },
      "outputs": [],
      "source": [
        "scaler = MinMaxScaler()\n",
        "data['VALUE'] = scaler.fit_transform(data[['VALUE']])"
      ]
    },
    {
      "cell_type": "code",
      "execution_count": 62,
      "metadata": {
        "id": "TGABb0OwOrI9"
      },
      "outputs": [],
      "source": [
        "data['ABS_CALL'] = data['ABS_CALL'].map({'P': 1, 'A': 0, 'M': 0.5})"
      ]
    },
    {
      "cell_type": "code",
      "execution_count": 63,
      "metadata": {
        "colab": {
          "base_uri": "https://localhost:8080/",
          "height": 564
        },
        "id": "ZgO7MTfVOrI-",
        "outputId": "2ab522c0-d375-4dd0-e385-1f4996b4425f"
      },
      "outputs": [
        {
          "output_type": "display_data",
          "data": {
            "text/plain": [
              "<Figure size 1000x600 with 1 Axes>"
            ],
            "image/png": "[encoded data removed]"
          },
          "metadata": {}
        }
      ],
      "source": [
        "plt.figure(figsize=(10, 6))\n",
        "sns.histplot(data['DETECTION P-VALUE'], bins=50, kde=True, color='green')\n",
        "plt.title(\"Distribution of Detection P-Value\")\n",
        "plt.xlabel(\"Detection P-Value\")\n",
        "plt.ylabel(\"Frequency\")\n",
        "plt.show()\n"
      ]
    },
    {
      "cell_type": "code",
      "execution_count": 65,
      "metadata": {
        "colab": {
          "base_uri": "https://localhost:8080/",
          "height": 521
        },
        "id": "kEhXAC_GOrI-",
        "outputId": "4a97aec6-763a-4c97-d9b6-016d3eef00b9"
      },
      "outputs": [
        {
          "output_type": "display_data",
          "data": {
            "text/plain": [
              "<Figure size 800x600 with 1 Axes>"
            ],
            "image/png": "[encoded data removed]"
          },
          "metadata": {}
        }
      ],
      "source": [
        "plt.figure(figsize=(8, 6))\n",
        "data['ABS_CALL'].value_counts().plot(kind='pie', autopct='%1.1f%%', colors=['blue', 'orange', 'gray'])\n",
        "plt.title(\"Proportion of ABS_CALL\")\n",
        "plt.ylabel(\"\")\n",
        "plt.show()\n"
      ]
    },
    {
      "cell_type": "code",
      "execution_count": 66,
      "metadata": {
        "colab": {
          "base_uri": "https://localhost:8080/"
        },
        "id": "tS4YS5SuOrI_",
        "outputId": "c162d8c5-451e-4ed6-d514-5892ab7b3a2f"
      },
      "outputs": [
        {
          "output_type": "stream",
          "name": "stdout",
          "text": [
            "                ID_REF     VALUE  ABS_CALL  DETECTION P-VALUE\n",
            "846        201257_x_at  1.000000       NaN       2.441410e-04\n",
            "8251       208695_s_at  0.995061       NaN       2.441410e-04\n",
            "352        200763_s_at  0.967207       NaN       2.441410e-04\n",
            "515          200926_at  0.956246       NaN       2.441410e-04\n",
            "11486      212039_x_at  0.953624       NaN       2.441410e-04\n",
            "13443      214003_x_at  0.948420       NaN       2.441410e-04\n",
            "26000      226131_s_at  0.937582       NaN       2.441410e-04\n",
            "306        200717_x_at  0.937525       NaN       2.441410e-04\n",
            "61     AFFX-hum_alu_at  0.936829       NaN       2.606800e-13\n",
            "806        201217_x_at  0.934194       NaN       2.441410e-04\n"
          ]
        }
      ],
      "source": [
        "top_probes = data.sort_values('VALUE', ascending=False).head(10)\n",
        "print(top_probes)\n"
      ]
    },
    {
      "cell_type": "code",
      "execution_count": 67,
      "metadata": {
        "id": "Tr98SvlbOrI_"
      },
      "outputs": [],
      "source": [
        "def get_huggingface_embeddings(text, model_name=\"sentence-transformers/all-mpnet-base-v2\"):\n",
        "    model = SentenceTransformer(model_name)\n",
        "    return model.encode(text)"
      ]
    },
    {
      "cell_type": "code",
      "execution_count": 68,
      "metadata": {
        "id": "RBjh14fQOrI_"
      },
      "outputs": [],
      "source": [
        "from sentence_transformers import SentenceTransformer\n",
        "from sklearn.metrics.pairwise import cosine_similarity\n",
        "from langchain_pinecone import PineconeVectorStore\n",
        "from langchain.embeddings import OpenAIEmbeddings\n",
        "from langchain_community.embeddings import HuggingFaceEmbeddings\n",
        "from pinecone import Pinecone\n",
        "import os\n",
        "import tempfile\n",
        "from pathlib import Path\n",
        "from langchain.schema import Document\n",
        "from openai import OpenAI\n",
        "import google.generativeai as genai\n",
        "import json\n",
        "from google.colab import userdata"
      ]
    },
    {
      "cell_type": "code",
      "execution_count": 69,
      "metadata": {
        "id": "IFoNf1lCOrI_"
      },
      "outputs": [],
      "source": [
        "sample_data = data.head(10).to_dict(orient='records')"
      ]
    },
    {
      "cell_type": "code",
      "source": [
        "sample_data_str = json.dumps(sample_data)"
      ],
      "metadata": {
        "id": "V19_X2ufQ82M"
      },
      "execution_count": 70,
      "outputs": []
    },
    {
      "cell_type": "markdown",
      "source": [
        "**NB** - Get a sample Groq Api key from here - https://console.groq.com/keys or make sure to give it access on the collab keys"
      ],
      "metadata": {
        "id": "FlH0X3zhpcwc"
      }
    },
    {
      "cell_type": "code",
      "execution_count": 74,
      "metadata": {
        "id": "Fd__dNsfOrI_"
      },
      "outputs": [],
      "source": [
        "client = OpenAI(\n",
        "  base_url=\"https://api.groq.com/openai/v1\",\n",
        "  api_key=userdata.get(\"GROQ_API_KEY\")\n",
        ")"
      ]
    },
    {
      "cell_type": "code",
      "source": [
        "abstract = f\"\"\"\n",
        "Title\tHPC-PB_donorAF9-35yrs\n",
        "Sample type\tRNA\n",
        "\n",
        "Source name\tHematopoietic progenitor cells (HPC), mobilized peripheral blood of healthy donors (PB, 35 years old).\n",
        "Organism\tHomo sapiens\n",
        "Characteristics\tHematopoietic progenitor cells (HPC) were enriched within the CD34+ cell fraction (selection by magnetic beads and subsequent flow cytometric separation) from G-CSF mobilized blood from healthy donors for allogeneic blood stem cell transplantation.\n",
        "Donor was 35 years old\n",
        "Biomaterial provider\tUniversity of Heidelberg\n",
        "Treatment protocol\tHPC were collected from fresh umbilical cord blood (CB) or mobilized peripheral blood (PB) after written consent using guidelines approved by the Ethic Committee on the Use of Human Subjects at the University of Heidelberg. Mononuclear cells were isolated after centrifugation on Ficoll-hypaque (Biochrom KG, Berlin, Germany). CD34+ cells were enriched with a monoclonal anti-CD34 antibody labeled using magnetic beads on an affinity column (Miltenyi Biotec, Bergisch-Gladbach, Germany). After additional staining with anti-CD34-APC (Becton Dickinson, San Jose, CA, [BD]) further purification was achieved using the FACS-Vantage-SE flow cytometry system. Staining with propidium iodide (PI) was performed to allow exclusion of non-viable cells. Reanalysis revealed purity higher than 95%.\n",
        "Growth protocol\tCells were isolated from fresh blood and immediately harvested for subsequent analysis.\n",
        "Extracted molecule\ttotal RNA\n",
        "Extraction protocol\tTotal RNA was isolated using TRIzol reagent (Invitrogen, Paisley, Scotland) according to the manufacturer´s instructions. RNA quality was controlled using the RNA 6000 Pico LabChip kit (Agilent, Waldbronn, Germany) and quantified with a NanoDrop ND-1000 Spectrophotometer (Nanodrop Technologies, Wilmington, DE, USA).\n",
        "Label\tBiotin\n",
        "Label protocol\t100 ng total RNA was amplified with GeneChip two-cycle cDNA synthesis kit (Affymetrix, High Wycombe, United Kingdom) according to the manufacturers instructions. Quality of amplified RNA was controlled by LabChip technology.\n",
        "\n",
        "Hybridization protocol\tGeneChip Human Genome U133_Plus_2.0 (Affymetrix) were hybridized with 10 µg amplified RNA and washed with a fluidics station 450 (Affymetrix).\n",
        "Scan protocol\tGeneChip Human Genome U133_Plus_2.0 (Affymetrix) were scanned with GeneChip scanner 3000 (Affymetrix)\n",
        "\"\"\"\n",
        "prompt = f\"\"\" You are an expert Data Analyst, I have a dataset stored in\n",
        "```{sample_data_str}```\n",
        " that I need to analyze. Please examine the first few rows of this data as well as\n",
        " the ```{abstract}```\n",
        "and do the below step by step:\n",
        "\n",
        "1. Generate comprehensive descriptions for each column that explain:\n",
        "   - The data type\n",
        "   - The likely purpose/meaning of the column\n",
        "   - Potential values or ranges\n",
        "   - Any patterns or notable characteristics\n",
        "\n",
        "2. Format your response as a clean JSON object with ``` where:\n",
        "   - Each key is the exact column name\n",
        "   - Each value is a detailed description of that column\n",
        "   - Include a \"data_type\" field for each column\n",
        "\n",
        "3. For example:\n",
        "{{\n",
        "  \"column_name\": {{\n",
        "    \"description\": \"Detailed explanation of what this column represents\",\n",
        "    \"data_type\": \"The data type (integer, string, date, etc.)\",\n",
        "    \"possible_values\": \"Description of the range or categorical values\",\n",
        "    \"notes\": \"Any additional observations about the data\"\n",
        "  }}\n",
        "}}\n",
        "Be definite in your answer!\n",
        "Provide in JSON format only!!!\n",
        "First find relevant information from the abstract then answer the question based\n",
        "on the relevant information.\n",
        "\"\"\"\n",
        "response = client.chat.completions.create(\n",
        "    model=\"llama-3.3-70b-versatile\",\n",
        "    messages=[\n",
        "        {\"role\": \"system\", \"content\": \"You are an expert data analyst.\"},\n",
        "        {\"role\": \"user\", \"content\": prompt}\n",
        "    ]\n",
        ")\n",
        "print(response.choices[0].message.content)"
      ],
      "metadata": {
        "colab": {
          "base_uri": "https://localhost:8080/"
        },
        "id": "5md0whapWRKv",
        "outputId": "ce75b6fd-ed48-4940-8644-eee51b711bbd"
      },
      "execution_count": 75,
      "outputs": [
        {
          "output_type": "stream",
          "name": "stdout",
          "text": [
            "```\n",
            "{\n",
            "  \"ID_REF\": {\n",
            "    \"description\": \"This column represents the reference ID for the microarray probe sets, which are used to identify specific genes or expressed sequence tags (ESTs) in the human genome\",\n",
            "    \"data_type\": \"string\",\n",
            "    \"possible_values\": \"Unique strings in the format 'AFFX-XXX-XX_at', where 'XXX' is a specific code for the probe and 'XX' is a unique identifier\",\n",
            "    \"notes\": \"These IDs are likely used as indices to match the microarray data with the corresponding gene or EST in a reference database\"\n",
            "  },\n",
            "  \"VALUE\": {\n",
            "    \"description\": \"This column represents the normalized intensity values for each microarray probe set, which indicate the level of expression of the corresponding gene or EST\",\n",
            "    \"data_type\": \"float\",\n",
            "    \"possible_values\": \"Values between 0 and 1, or possibly greater than 1, representing the relative abundance of the transcript in the sample\",\n",
            "    \"notes\": \"These values are often used for downstream analysis, such as identifying differentially expressed genes or clustering samples based on their expression profiles\"\n",
            "  },\n",
            "  \"ABS_CALL\": {\n",
            "    \"description\": \"This column represents the absolute call for each microarray probe set, which indicates whether the corresponding gene or EST is considered 'present' or 'absent' in the sample\",\n",
            "    \"data_type\": \"string\",\n",
            "    \"possible_values\": \"Either 'P' (present) or 'A' (absent), or NaN (not available) if the call cannot be made\",\n",
            "    \"notes\": \"The absolute call is based on a detection p-value threshold and is used to filter out genes or ESTs that are not reliably detected in the sample\"\n",
            "  },\n",
            "  \"DETECTION P-VALUE\": {\n",
            "    \"description\": \"This column represents the detection p-value for each microarray probe set, which indicates the probability that the observed intensity value is due to chance\",\n",
            "    \"data_type\": \"float\",\n",
            "    \"possible_values\": \"Values between 0 and 1, where smaller values indicate a lower probability of chance and a more reliable detection of the gene or EST\",\n",
            "    \"notes\": \"These p-values are used to determine the absolute call for each probe set and to filter out genes or ESTs that are not reliably detected in the sample\"\n",
            "  }\n",
            "}\n",
            "```\n"
          ]
        }
      ]
    },
    {
      "cell_type": "code",
      "source": [],
      "metadata": {
        "id": "Re-SjFUHjkN0"
      },
      "execution_count": null,
      "outputs": []
    }
  ],
  "metadata": {
    "kernelspec": {
      "display_name": "Python 3",
      "language": "python",
      "name": "python3"
    },
    "language_info": {
      "codemirror_mode": {
        "name": "ipython",
        "version": 3
      },
      "file_extension": ".py",
      "mimetype": "text/x-python",
      "name": "python",
      "nbconvert_exporter": "python",
      "pygments_lexer": "ipython3",
      "version": "3.11.0"
    },
    "colab": {
      "provenance": [],
      "include_colab_link": true
    }
  },
  "nbformat": 4,
  "nbformat_minor": 0
}