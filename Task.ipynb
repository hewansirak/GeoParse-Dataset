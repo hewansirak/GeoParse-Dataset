{
  "cells": [
    {
      "cell_type": "markdown",
      "metadata": {
        "id": "view-in-github",
        "colab_type": "text"
      },
      "source": [
        "<a href=\"https://colab.research.google.com/github/hewansirak/GeoParse-Dataset/blob/main/Task.ipynb\" target=\"_parent\"><img src=\"https://colab.research.google.com/assets/colab-badge.svg\" alt=\"Open In Colab\"/></a>"
      ]
    },
    {
      "cell_type": "code",
      "source": [
        "!pip install GEOparse"
      ],
      "metadata": {
        "colab": {
          "base_uri": "https://localhost:8080/"
        },
        "id": "LNiTh-FZO0Lt",
        "outputId": "00851d46-ceb8-4635-ce17-806537ab01c6"
      },
      "execution_count": 1,
      "outputs": [
        {
          "output_type": "stream",
          "name": "stdout",
          "text": [
            "Requirement already satisfied: GEOparse in /usr/local/lib/python3.11/dist-packages (2.0.4)\n",
            "Requirement already satisfied: numpy>=1.7 in /usr/local/lib/python3.11/dist-packages (from GEOparse) (2.2.4)\n",
            "Requirement already satisfied: pandas>=0.17 in /usr/local/lib/python3.11/dist-packages (from GEOparse) (2.2.3)\n",
            "Requirement already satisfied: requests>=2.21.0 in /usr/local/lib/python3.11/dist-packages (from GEOparse) (2.32.3)\n",
            "Requirement already satisfied: tqdm>=4.31.1 in /usr/local/lib/python3.11/dist-packages (from GEOparse) (4.67.1)\n",
            "Requirement already satisfied: python-dateutil>=2.8.2 in /usr/local/lib/python3.11/dist-packages (from pandas>=0.17->GEOparse) (2.8.2)\n",
            "Requirement already satisfied: pytz>=2020.1 in /usr/local/lib/python3.11/dist-packages (from pandas>=0.17->GEOparse) (2025.2)\n",
            "Requirement already satisfied: tzdata>=2022.7 in /usr/local/lib/python3.11/dist-packages (from pandas>=0.17->GEOparse) (2025.2)\n",
            "Requirement already satisfied: charset-normalizer<4,>=2 in /usr/local/lib/python3.11/dist-packages (from requests>=2.21.0->GEOparse) (3.4.1)\n",
            "Requirement already satisfied: idna<4,>=2.5 in /usr/local/lib/python3.11/dist-packages (from requests>=2.21.0->GEOparse) (3.10)\n",
            "Requirement already satisfied: urllib3<3,>=1.21.1 in /usr/local/lib/python3.11/dist-packages (from requests>=2.21.0->GEOparse) (2.3.0)\n",
            "Requirement already satisfied: certifi>=2017.4.17 in /usr/local/lib/python3.11/dist-packages (from requests>=2.21.0->GEOparse) (2025.1.31)\n",
            "Requirement already satisfied: six>=1.5 in /usr/local/lib/python3.11/dist-packages (from python-dateutil>=2.8.2->pandas>=0.17->GEOparse) (1.17.0)\n"
          ]
        }
      ]
    },
    {
      "cell_type": "code",
      "source": [
        "! pip install openai numpy pandas"
      ],
      "metadata": {
        "colab": {
          "base_uri": "https://localhost:8080/"
        },
        "id": "XuxDAxdhPTxE",
        "outputId": "643354e8-f5b7-4a6e-a3fa-71d277d56ba8"
      },
      "execution_count": 2,
      "outputs": [
        {
          "output_type": "stream",
          "name": "stdout",
          "text": [
            "Requirement already satisfied: openai in /usr/local/lib/python3.11/dist-packages (1.69.0)\n",
            "Requirement already satisfied: numpy in /usr/local/lib/python3.11/dist-packages (2.2.4)\n",
            "Requirement already satisfied: pandas in /usr/local/lib/python3.11/dist-packages (2.2.3)\n",
            "Requirement already satisfied: anyio<5,>=3.5.0 in /usr/local/lib/python3.11/dist-packages (from openai) (4.9.0)\n",
            "Requirement already satisfied: distro<2,>=1.7.0 in /usr/local/lib/python3.11/dist-packages (from openai) (1.9.0)\n",
            "Requirement already satisfied: httpx<1,>=0.23.0 in /usr/local/lib/python3.11/dist-packages (from openai) (0.28.1)\n",
            "Requirement already satisfied: jiter<1,>=0.4.0 in /usr/local/lib/python3.11/dist-packages (from openai) (0.9.0)\n",
            "Requirement already satisfied: pydantic<3,>=1.9.0 in /usr/local/lib/python3.11/dist-packages (from openai) (2.11.0)\n",
            "Requirement already satisfied: sniffio in /usr/local/lib/python3.11/dist-packages (from openai) (1.3.1)\n",
            "Requirement already satisfied: tqdm>4 in /usr/local/lib/python3.11/dist-packages (from openai) (4.67.1)\n",
            "Requirement already satisfied: typing-extensions<5,>=4.11 in /usr/local/lib/python3.11/dist-packages (from openai) (4.13.0)\n",
            "Requirement already satisfied: python-dateutil>=2.8.2 in /usr/local/lib/python3.11/dist-packages (from pandas) (2.8.2)\n",
            "Requirement already satisfied: pytz>=2020.1 in /usr/local/lib/python3.11/dist-packages (from pandas) (2025.2)\n",
            "Requirement already satisfied: tzdata>=2022.7 in /usr/local/lib/python3.11/dist-packages (from pandas) (2025.2)\n",
            "Requirement already satisfied: idna>=2.8 in /usr/local/lib/python3.11/dist-packages (from anyio<5,>=3.5.0->openai) (3.10)\n",
            "Requirement already satisfied: certifi in /usr/local/lib/python3.11/dist-packages (from httpx<1,>=0.23.0->openai) (2025.1.31)\n",
            "Requirement already satisfied: httpcore==1.* in /usr/local/lib/python3.11/dist-packages (from httpx<1,>=0.23.0->openai) (1.0.7)\n",
            "Requirement already satisfied: h11<0.15,>=0.13 in /usr/local/lib/python3.11/dist-packages (from httpcore==1.*->httpx<1,>=0.23.0->openai) (0.14.0)\n",
            "Requirement already satisfied: annotated-types>=0.6.0 in /usr/local/lib/python3.11/dist-packages (from pydantic<3,>=1.9.0->openai) (0.7.0)\n",
            "Requirement already satisfied: pydantic-core==2.33.0 in /usr/local/lib/python3.11/dist-packages (from pydantic<3,>=1.9.0->openai) (2.33.0)\n",
            "Requirement already satisfied: typing-inspection>=0.4.0 in /usr/local/lib/python3.11/dist-packages (from pydantic<3,>=1.9.0->openai) (0.4.0)\n",
            "Requirement already satisfied: six>=1.5 in /usr/local/lib/python3.11/dist-packages (from python-dateutil>=2.8.2->pandas) (1.17.0)\n"
          ]
        }
      ]
    },
    {
      "cell_type": "code",
      "execution_count": 3,
      "metadata": {
        "id": "vfBH7ctnOrIz"
      },
      "outputs": [],
      "source": [
        "import pandas as pd\n",
        "import matplotlib.pyplot as plt\n",
        "import seaborn as sns\n",
        "import GEOparse"
      ]
    },
    {
      "cell_type": "code",
      "execution_count": 4,
      "metadata": {
        "colab": {
          "base_uri": "https://localhost:8080/"
        },
        "id": "ZbZeh6K7OrI2",
        "outputId": "f03db81e-447a-42c0-f184-7d70d15a5a27"
      },
      "outputs": [
        {
          "output_type": "stream",
          "name": "stderr",
          "text": [
            "01-Apr-2025 10:16:25 INFO GEOparse - Downloading ftp://ftp.ncbi.nlm.nih.gov/geo/series/GSE12nnn/GSE12277/soft/GSE12277_family.soft.gz to ./data/GEO/GSE12277_family.soft.gz\n",
            "INFO:GEOparse:Downloading ftp://ftp.ncbi.nlm.nih.gov/geo/series/GSE12nnn/GSE12277/soft/GSE12277_family.soft.gz to ./data/GEO/GSE12277_family.soft.gz\n",
            "100%|██████████| 19.8M/19.8M [00:00<00:00, 27.2MB/s]\n",
            "01-Apr-2025 10:16:26 DEBUG downloader - Size validation passed\n",
            "DEBUG:GEOparse:Size validation passed\n",
            "01-Apr-2025 10:16:26 DEBUG downloader - Moving /tmp/tmpzj4v891o to /content/data/GEO/GSE12277_family.soft.gz\n",
            "DEBUG:GEOparse:Moving /tmp/tmpzj4v891o to /content/data/GEO/GSE12277_family.soft.gz\n",
            "01-Apr-2025 10:16:27 DEBUG downloader - Successfully downloaded ftp://ftp.ncbi.nlm.nih.gov/geo/series/GSE12nnn/GSE12277/soft/GSE12277_family.soft.gz\n",
            "DEBUG:GEOparse:Successfully downloaded ftp://ftp.ncbi.nlm.nih.gov/geo/series/GSE12nnn/GSE12277/soft/GSE12277_family.soft.gz\n",
            "01-Apr-2025 10:16:27 INFO GEOparse - Parsing ./data/GEO/GSE12277_family.soft.gz: \n",
            "INFO:GEOparse:Parsing ./data/GEO/GSE12277_family.soft.gz: \n",
            "01-Apr-2025 10:16:27 DEBUG GEOparse - DATABASE: GeoMiame\n",
            "DEBUG:GEOparse:DATABASE: GeoMiame\n",
            "01-Apr-2025 10:16:27 DEBUG GEOparse - SERIES: GSE12277\n",
            "DEBUG:GEOparse:SERIES: GSE12277\n",
            "01-Apr-2025 10:16:27 DEBUG GEOparse - PLATFORM: GPL570\n",
            "DEBUG:GEOparse:PLATFORM: GPL570\n",
            "/usr/local/lib/python3.11/dist-packages/GEOparse/GEOparse.py:401: DtypeWarning: Columns (2) have mixed types. Specify dtype option on import or set low_memory=False.\n",
            "  return read_csv(StringIO(data), index_col=None, sep=\"\\t\")\n",
            "01-Apr-2025 10:16:31 DEBUG GEOparse - SAMPLE: GSM308237\n",
            "DEBUG:GEOparse:SAMPLE: GSM308237\n",
            "01-Apr-2025 10:16:31 DEBUG GEOparse - SAMPLE: GSM308239\n",
            "DEBUG:GEOparse:SAMPLE: GSM308239\n",
            "01-Apr-2025 10:16:31 DEBUG GEOparse - SAMPLE: GSM308241\n",
            "DEBUG:GEOparse:SAMPLE: GSM308241\n",
            "01-Apr-2025 10:16:31 DEBUG GEOparse - SAMPLE: GSM308242\n",
            "DEBUG:GEOparse:SAMPLE: GSM308242\n",
            "01-Apr-2025 10:16:32 DEBUG GEOparse - SAMPLE: GSM308244\n",
            "DEBUG:GEOparse:SAMPLE: GSM308244\n",
            "01-Apr-2025 10:16:32 DEBUG GEOparse - SAMPLE: GSM308245\n",
            "DEBUG:GEOparse:SAMPLE: GSM308245\n",
            "01-Apr-2025 10:16:32 DEBUG GEOparse - SAMPLE: GSM308246\n",
            "DEBUG:GEOparse:SAMPLE: GSM308246\n",
            "01-Apr-2025 10:16:33 DEBUG GEOparse - SAMPLE: GSM308247\n",
            "DEBUG:GEOparse:SAMPLE: GSM308247\n",
            "01-Apr-2025 10:16:33 DEBUG GEOparse - SAMPLE: GSM308254\n",
            "DEBUG:GEOparse:SAMPLE: GSM308254\n",
            "01-Apr-2025 10:16:33 DEBUG GEOparse - SAMPLE: GSM308255\n",
            "DEBUG:GEOparse:SAMPLE: GSM308255\n",
            "01-Apr-2025 10:16:34 DEBUG GEOparse - SAMPLE: GSM308317\n",
            "DEBUG:GEOparse:SAMPLE: GSM308317\n",
            "01-Apr-2025 10:16:34 DEBUG GEOparse - SAMPLE: GSM308461\n",
            "DEBUG:GEOparse:SAMPLE: GSM308461\n",
            "01-Apr-2025 10:16:34 DEBUG GEOparse - SAMPLE: GSM308462\n",
            "DEBUG:GEOparse:SAMPLE: GSM308462\n",
            "01-Apr-2025 10:16:34 DEBUG GEOparse - SAMPLE: GSM308463\n",
            "DEBUG:GEOparse:SAMPLE: GSM308463\n",
            "01-Apr-2025 10:16:35 DEBUG GEOparse - SAMPLE: GSM308465\n",
            "DEBUG:GEOparse:SAMPLE: GSM308465\n",
            "01-Apr-2025 10:16:35 DEBUG GEOparse - SAMPLE: GSM308467\n",
            "DEBUG:GEOparse:SAMPLE: GSM308467\n",
            "01-Apr-2025 10:16:36 DEBUG GEOparse - SAMPLE: GSM308469\n",
            "DEBUG:GEOparse:SAMPLE: GSM308469\n",
            "01-Apr-2025 10:16:36 DEBUG GEOparse - SAMPLE: GSM308470\n",
            "DEBUG:GEOparse:SAMPLE: GSM308470\n",
            "01-Apr-2025 10:16:37 DEBUG GEOparse - SAMPLE: GSM308473\n",
            "DEBUG:GEOparse:SAMPLE: GSM308473\n"
          ]
        }
      ],
      "source": [
        "gse= GEOparse.get_GEO(geo=\"GSE12277\", destdir=\"./data/GEO\")\n"
      ]
    },
    {
      "cell_type": "code",
      "execution_count": 5,
      "metadata": {
        "colab": {
          "base_uri": "https://localhost:8080/",
          "height": 424
        },
        "id": "2ih4BQn0OrI4",
        "outputId": "37cc1798-c700-406d-9cb5-5adb7172fae5"
      },
      "outputs": [
        {
          "output_type": "execute_result",
          "data": {
            "text/plain": [
              "               ID_REF       VALUE ABS_CALL  DETECTION P-VALUE\n",
              "0      AFFX-BioB-5_at  115.457000        P           0.000581\n",
              "1      AFFX-BioB-M_at  119.770000        P           0.000044\n",
              "2      AFFX-BioB-3_at   84.816300        P           0.000095\n",
              "3      AFFX-BioC-5_at  296.351000        P           0.000052\n",
              "4      AFFX-BioC-3_at  470.652000        P           0.000044\n",
              "...               ...         ...      ...                ...\n",
              "54665      1570631_at   12.766800        P           0.023926\n",
              "54666      1570632_at    1.179860        A           0.780518\n",
              "54667      1570633_at    0.159784        A           0.953857\n",
              "54668      1570635_at    1.926470        A           0.753906\n",
              "54669      1570639_at    4.649640        A           0.398926\n",
              "\n",
              "[54670 rows x 4 columns]"
            ],
            "text/html": [
              "\n",
              "  <div id=\"df-23755eae-31f9-4712-aa33-bf64dfc50565\" class=\"colab-df-container\">\n",
              "    <div>\n",
              "<style scoped>\n",
              "    .dataframe tbody tr th:only-of-type {\n",
              "        vertical-align: middle;\n",
              "    }\n",
              "\n",
              "    .dataframe tbody tr th {\n",
              "        vertical-align: top;\n",
              "    }\n",
              "\n",
              "    .dataframe thead th {\n",
              "        text-align: right;\n",
              "    }\n",
              "</style>\n",
              "<table border=\"1\" class=\"dataframe\">\n",
              "  <thead>\n",
              "    <tr style=\"text-align: right;\">\n",
              "      <th></th>\n",
              "      <th>ID_REF</th>\n",
              "      <th>VALUE</th>\n",
              "      <th>ABS_CALL</th>\n",
              "      <th>DETECTION P-VALUE</th>\n",
              "    </tr>\n",
              "  </thead>\n",
              "  <tbody>\n",
              "    <tr>\n",
              "      <th>0</th>\n",
              "      <td>AFFX-BioB-5_at</td>\n",
              "      <td>115.457000</td>\n",
              "      <td>P</td>\n",
              "      <td>0.000581</td>\n",
              "    </tr>\n",
              "    <tr>\n",
              "      <th>1</th>\n",
              "      <td>AFFX-BioB-M_at</td>\n",
              "      <td>119.770000</td>\n",
              "      <td>P</td>\n",
              "      <td>0.000044</td>\n",
              "    </tr>\n",
              "    <tr>\n",
              "      <th>2</th>\n",
              "      <td>AFFX-BioB-3_at</td>\n",
              "      <td>84.816300</td>\n",
              "      <td>P</td>\n",
              "      <td>0.000095</td>\n",
              "    </tr>\n",
              "    <tr>\n",
              "      <th>3</th>\n",
              "      <td>AFFX-BioC-5_at</td>\n",
              "      <td>296.351000</td>\n",
              "      <td>P</td>\n",
              "      <td>0.000052</td>\n",
              "    </tr>\n",
              "    <tr>\n",
              "      <th>4</th>\n",
              "      <td>AFFX-BioC-3_at</td>\n",
              "      <td>470.652000</td>\n",
              "      <td>P</td>\n",
              "      <td>0.000044</td>\n",
              "    </tr>\n",
              "    <tr>\n",
              "      <th>...</th>\n",
              "      <td>...</td>\n",
              "      <td>...</td>\n",
              "      <td>...</td>\n",
              "      <td>...</td>\n",
              "    </tr>\n",
              "    <tr>\n",
              "      <th>54665</th>\n",
              "      <td>1570631_at</td>\n",
              "      <td>12.766800</td>\n",
              "      <td>P</td>\n",
              "      <td>0.023926</td>\n",
              "    </tr>\n",
              "    <tr>\n",
              "      <th>54666</th>\n",
              "      <td>1570632_at</td>\n",
              "      <td>1.179860</td>\n",
              "      <td>A</td>\n",
              "      <td>0.780518</td>\n",
              "    </tr>\n",
              "    <tr>\n",
              "      <th>54667</th>\n",
              "      <td>1570633_at</td>\n",
              "      <td>0.159784</td>\n",
              "      <td>A</td>\n",
              "      <td>0.953857</td>\n",
              "    </tr>\n",
              "    <tr>\n",
              "      <th>54668</th>\n",
              "      <td>1570635_at</td>\n",
              "      <td>1.926470</td>\n",
              "      <td>A</td>\n",
              "      <td>0.753906</td>\n",
              "    </tr>\n",
              "    <tr>\n",
              "      <th>54669</th>\n",
              "      <td>1570639_at</td>\n",
              "      <td>4.649640</td>\n",
              "      <td>A</td>\n",
              "      <td>0.398926</td>\n",
              "    </tr>\n",
              "  </tbody>\n",
              "</table>\n",
              "<p>54670 rows × 4 columns</p>\n",
              "</div>\n",
              "    <div class=\"colab-df-buttons\">\n",
              "\n",
              "  <div class=\"colab-df-container\">\n",
              "    <button class=\"colab-df-convert\" onclick=\"convertToInteractive('df-23755eae-31f9-4712-aa33-bf64dfc50565')\"\n",
              "            title=\"Convert this dataframe to an interactive table.\"\n",
              "            style=\"display:none;\">\n",
              "\n",
              "  <svg xmlns=\"http://www.w3.org/2000/svg\" height=\"24px\" viewBox=\"0 -960 960 960\">\n",
              "    <path d=\"M120-120v-720h720v720H120Zm60-500h600v-160H180v160Zm220 220h160v-160H400v160Zm0 220h160v-160H400v160ZM180-400h160v-160H180v160Zm440 0h160v-160H620v160ZM180-180h160v-160H180v160Zm440 0h160v-160H620v160Z\"/>\n",
              "  </svg>\n",
              "    </button>\n",
              "\n",
              "  <style>\n",
              "    .colab-df-container {\n",
              "      display:flex;\n",
              "      gap: 12px;\n",
              "    }\n",
              "\n",
              "    .colab-df-convert {\n",
              "      background-color: #E8F0FE;\n",
              "      border: none;\n",
              "      border-radius: 50%;\n",
              "      cursor: pointer;\n",
              "      display: none;\n",
              "      fill: #1967D2;\n",
              "      height: 32px;\n",
              "      padding: 0 0 0 0;\n",
              "      width: 32px;\n",
              "    }\n",
              "\n",
              "    .colab-df-convert:hover {\n",
              "      background-color: #E2EBFA;\n",
              "      box-shadow: 0px 1px 2px rgba(60, 64, 67, 0.3), 0px 1px 3px 1px rgba(60, 64, 67, 0.15);\n",
              "      fill: #174EA6;\n",
              "    }\n",
              "\n",
              "    .colab-df-buttons div {\n",
              "      margin-bottom: 4px;\n",
              "    }\n",
              "\n",
              "    [theme=dark] .colab-df-convert {\n",
              "      background-color: #3B4455;\n",
              "      fill: #D2E3FC;\n",
              "    }\n",
              "\n",
              "    [theme=dark] .colab-df-convert:hover {\n",
              "      background-color: #434B5C;\n",
              "      box-shadow: 0px 1px 3px 1px rgba(0, 0, 0, 0.15);\n",
              "      filter: drop-shadow(0px 1px 2px rgba(0, 0, 0, 0.3));\n",
              "      fill: #FFFFFF;\n",
              "    }\n",
              "  </style>\n",
              "\n",
              "    <script>\n",
              "      const buttonEl =\n",
              "        document.querySelector('#df-23755eae-31f9-4712-aa33-bf64dfc50565 button.colab-df-convert');\n",
              "      buttonEl.style.display =\n",
              "        google.colab.kernel.accessAllowed ? 'block' : 'none';\n",
              "\n",
              "      async function convertToInteractive(key) {\n",
              "        const element = document.querySelector('#df-23755eae-31f9-4712-aa33-bf64dfc50565');\n",
              "        const dataTable =\n",
              "          await google.colab.kernel.invokeFunction('convertToInteractive',\n",
              "                                                    [key], {});\n",
              "        if (!dataTable) return;\n",
              "\n",
              "        const docLinkHtml = 'Like what you see? Visit the ' +\n",
              "          '<a target=\"_blank\" href=https://colab.research.google.com/notebooks/data_table.ipynb>data table notebook</a>'\n",
              "          + ' to learn more about interactive tables.';\n",
              "        element.innerHTML = '';\n",
              "        dataTable['output_type'] = 'display_data';\n",
              "        await google.colab.output.renderOutput(dataTable, element);\n",
              "        const docLink = document.createElement('div');\n",
              "        docLink.innerHTML = docLinkHtml;\n",
              "        element.appendChild(docLink);\n",
              "      }\n",
              "    </script>\n",
              "  </div>\n",
              "\n",
              "\n",
              "<div id=\"df-baf72151-a944-4f1b-9fc4-b67aeb971f33\">\n",
              "  <button class=\"colab-df-quickchart\" onclick=\"quickchart('df-baf72151-a944-4f1b-9fc4-b67aeb971f33')\"\n",
              "            title=\"Suggest charts\"\n",
              "            style=\"display:none;\">\n",
              "\n",
              "<svg xmlns=\"http://www.w3.org/2000/svg\" height=\"24px\"viewBox=\"0 0 24 24\"\n",
              "     width=\"24px\">\n",
              "    <g>\n",
              "        <path d=\"M19 3H5c-1.1 0-2 .9-2 2v14c0 1.1.9 2 2 2h14c1.1 0 2-.9 2-2V5c0-1.1-.9-2-2-2zM9 17H7v-7h2v7zm4 0h-2V7h2v10zm4 0h-2v-4h2v4z\"/>\n",
              "    </g>\n",
              "</svg>\n",
              "  </button>\n",
              "\n",
              "<style>\n",
              "  .colab-df-quickchart {\n",
              "      --bg-color: #E8F0FE;\n",
              "      --fill-color: #1967D2;\n",
              "      --hover-bg-color: #E2EBFA;\n",
              "      --hover-fill-color: #174EA6;\n",
              "      --disabled-fill-color: #AAA;\n",
              "      --disabled-bg-color: #DDD;\n",
              "  }\n",
              "\n",
              "  [theme=dark] .colab-df-quickchart {\n",
              "      --bg-color: #3B4455;\n",
              "      --fill-color: #D2E3FC;\n",
              "      --hover-bg-color: #434B5C;\n",
              "      --hover-fill-color: #FFFFFF;\n",
              "      --disabled-bg-color: #3B4455;\n",
              "      --disabled-fill-color: #666;\n",
              "  }\n",
              "\n",
              "  .colab-df-quickchart {\n",
              "    background-color: var(--bg-color);\n",
              "    border: none;\n",
              "    border-radius: 50%;\n",
              "    cursor: pointer;\n",
              "    display: none;\n",
              "    fill: var(--fill-color);\n",
              "    height: 32px;\n",
              "    padding: 0;\n",
              "    width: 32px;\n",
              "  }\n",
              "\n",
              "  .colab-df-quickchart:hover {\n",
              "    background-color: var(--hover-bg-color);\n",
              "    box-shadow: 0 1px 2px rgba(60, 64, 67, 0.3), 0 1px 3px 1px rgba(60, 64, 67, 0.15);\n",
              "    fill: var(--button-hover-fill-color);\n",
              "  }\n",
              "\n",
              "  .colab-df-quickchart-complete:disabled,\n",
              "  .colab-df-quickchart-complete:disabled:hover {\n",
              "    background-color: var(--disabled-bg-color);\n",
              "    fill: var(--disabled-fill-color);\n",
              "    box-shadow: none;\n",
              "  }\n",
              "\n",
              "  .colab-df-spinner {\n",
              "    border: 2px solid var(--fill-color);\n",
              "    border-color: transparent;\n",
              "    border-bottom-color: var(--fill-color);\n",
              "    animation:\n",
              "      spin 1s steps(1) infinite;\n",
              "  }\n",
              "\n",
              "  @keyframes spin {\n",
              "    0% {\n",
              "      border-color: transparent;\n",
              "      border-bottom-color: var(--fill-color);\n",
              "      border-left-color: var(--fill-color);\n",
              "    }\n",
              "    20% {\n",
              "      border-color: transparent;\n",
              "      border-left-color: var(--fill-color);\n",
              "      border-top-color: var(--fill-color);\n",
              "    }\n",
              "    30% {\n",
              "      border-color: transparent;\n",
              "      border-left-color: var(--fill-color);\n",
              "      border-top-color: var(--fill-color);\n",
              "      border-right-color: var(--fill-color);\n",
              "    }\n",
              "    40% {\n",
              "      border-color: transparent;\n",
              "      border-right-color: var(--fill-color);\n",
              "      border-top-color: var(--fill-color);\n",
              "    }\n",
              "    60% {\n",
              "      border-color: transparent;\n",
              "      border-right-color: var(--fill-color);\n",
              "    }\n",
              "    80% {\n",
              "      border-color: transparent;\n",
              "      border-right-color: var(--fill-color);\n",
              "      border-bottom-color: var(--fill-color);\n",
              "    }\n",
              "    90% {\n",
              "      border-color: transparent;\n",
              "      border-bottom-color: var(--fill-color);\n",
              "    }\n",
              "  }\n",
              "</style>\n",
              "\n",
              "  <script>\n",
              "    async function quickchart(key) {\n",
              "      const quickchartButtonEl =\n",
              "        document.querySelector('#' + key + ' button');\n",
              "      quickchartButtonEl.disabled = true;  // To prevent multiple clicks.\n",
              "      quickchartButtonEl.classList.add('colab-df-spinner');\n",
              "      try {\n",
              "        const charts = await google.colab.kernel.invokeFunction(\n",
              "            'suggestCharts', [key], {});\n",
              "      } catch (error) {\n",
              "        console.error('Error during call to suggestCharts:', error);\n",
              "      }\n",
              "      quickchartButtonEl.classList.remove('colab-df-spinner');\n",
              "      quickchartButtonEl.classList.add('colab-df-quickchart-complete');\n",
              "    }\n",
              "    (() => {\n",
              "      let quickchartButtonEl =\n",
              "        document.querySelector('#df-baf72151-a944-4f1b-9fc4-b67aeb971f33 button');\n",
              "      quickchartButtonEl.style.display =\n",
              "        google.colab.kernel.accessAllowed ? 'block' : 'none';\n",
              "    })();\n",
              "  </script>\n",
              "</div>\n",
              "\n",
              "    </div>\n",
              "  </div>\n"
            ],
            "application/vnd.google.colaboratory.intrinsic+json": {
              "type": "dataframe",
              "variable_name": "data",
              "summary": "{\n  \"name\": \"data\",\n  \"rows\": 54675,\n  \"fields\": [\n    {\n      \"column\": \"ID_REF\",\n      \"properties\": {\n        \"dtype\": \"string\",\n        \"num_unique_values\": 54675,\n        \"samples\": [\n          \"228711_at\",\n          \"207619_at\",\n          \"234409_at\"\n        ],\n        \"semantic_type\": \"\",\n        \"description\": \"\"\n      }\n    },\n    {\n      \"column\": \"VALUE\",\n      \"properties\": {\n        \"dtype\": \"number\",\n        \"std\": 354.7283800742087,\n        \"min\": 0.0205122,\n        \"max\": 7157.12,\n        \"num_unique_values\": 53739,\n        \"samples\": [\n          5.98638,\n          0.515689,\n          57.3173\n        ],\n        \"semantic_type\": \"\",\n        \"description\": \"\"\n      }\n    },\n    {\n      \"column\": \"ABS_CALL\",\n      \"properties\": {\n        \"dtype\": \"category\",\n        \"num_unique_values\": 3,\n        \"samples\": [\n          \"P\",\n          \"A\",\n          \"M\"\n        ],\n        \"semantic_type\": \"\",\n        \"description\": \"\"\n      }\n    },\n    {\n      \"column\": \"DETECTION P-VALUE\",\n      \"properties\": {\n        \"dtype\": \"number\",\n        \"std\": 0.31295706982989874,\n        \"min\": 2.6068e-13,\n        \"max\": 0.999756,\n        \"num_unique_values\": 632,\n        \"samples\": [\n          0.888916,\n          0.883789,\n          0.568115\n        ],\n        \"semantic_type\": \"\",\n        \"description\": \"\"\n      }\n    }\n  ]\n}"
            }
          },
          "metadata": {},
          "execution_count": 5
        }
      ],
      "source": [
        "gsm= gse.gsms[\"GSM308246\"]\n",
        "data= gsm.table\n",
        "data.head(-5)"
      ]
    },
    {
      "cell_type": "code",
      "execution_count": 6,
      "metadata": {
        "colab": {
          "base_uri": "https://localhost:8080/"
        },
        "id": "X4HuMum-OrI4",
        "outputId": "311d9017-3c2a-45e0-c903-c2fb47db0238"
      },
      "outputs": [
        {
          "output_type": "stream",
          "name": "stdout",
          "text": [
            "Metadata:\n",
            "title: ['Hematopoietic Progenitor Cells of Different Donor Age']\n",
            "geo_accession: ['GSE12277']\n",
            "status: ['Public on Jun 12 2009']\n",
            "submission_date: ['Jul 29 2008']\n",
            "last_update_date: ['Mar 25 2019']\n",
            "pubmed_id: ['19513108']\n",
            "summary: ['In this series we have analyzed the effect of donor age on the gene expression profile of human hematopoietic stem and progenitor cells (HPC). Cells were taken from umbilical cord blood (CB) or from G-CSF mobilized blood of healthy donors for allogeneic blood stem cell transplantation.']\n",
            "overall_design: ['Hematopoietic progenitor cells (HPC) were isolated within the CD34+ cell fraction from fresh human cord blood (CB) or from G-CSF mobilized peripheral blood (PB) as described in detail before (Wagner et al., Blood, 2004, 104:675-684; Wagner et al., Stem cells, 2005, 23:1180-1191; Wagner et al., 2007, 10:2638-2657). Differential gene expression was subsequently compared in the CD34+ samples of different donor age.']\n",
            "type: ['Expression profiling by array']\n",
            "contributor: ['Wolfgang,,Wagner', 'Simone,,Bork', 'Patrick,,Horn', 'Anthony,D,Ho']\n",
            "sample_id: ['GSM308237', 'GSM308239', 'GSM308241', 'GSM308242', 'GSM308244', 'GSM308245', 'GSM308246', 'GSM308247', 'GSM308254', 'GSM308255', 'GSM308317', 'GSM308461', 'GSM308462', 'GSM308463', 'GSM308465', 'GSM308467', 'GSM308469', 'GSM308470', 'GSM308473']\n",
            "contact_name: ['Wolfgang,,Wagner']\n",
            "contact_email: ['wwagner@ukaachen.de']\n",
            "contact_phone: ['+49 241 8088611']\n",
            "contact_laboratory: ['Stem Cell Biology and Cellular Engineering']\n",
            "contact_department: ['Helmholtz Institute for Biomedical Engineering']\n",
            "contact_institute: ['RWTH Aachen University']\n",
            "contact_address: ['Pauwelsstrasse 20']\n",
            "contact_city: ['Aachen']\n",
            "contact_zip/postal_code: ['52074']\n",
            "contact_country: ['Germany']\n",
            "supplementary_file: ['ftp://ftp.ncbi.nlm.nih.gov/geo/series/GSE12nnn/GSE12277/suppl/GSE12277_RAW.tar']\n",
            "platform_id: ['GPL570']\n",
            "platform_taxid: ['9606']\n",
            "sample_taxid: ['9606']\n",
            "relation: ['BioProject: https://www.ncbi.nlm.nih.gov/bioproject/PRJNA113665']\n"
          ]
        }
      ],
      "source": [
        "print(\"Metadata:\")\n",
        "for key, value in gse.metadata.items():\n",
        "    print(f\"{key}: {value}\")\n"
      ]
    },
    {
      "cell_type": "code",
      "execution_count": 7,
      "metadata": {
        "colab": {
          "base_uri": "https://localhost:8080/"
        },
        "id": "8_X3bBW8OrI5",
        "outputId": "7318f94d-7069-446d-b911-2d97a00857dc"
      },
      "outputs": [
        {
          "output_type": "stream",
          "name": "stdout",
          "text": [
            "<class 'pandas.core.frame.DataFrame'>\n",
            "RangeIndex: 54675 entries, 0 to 54674\n",
            "Data columns (total 4 columns):\n",
            " #   Column             Non-Null Count  Dtype  \n",
            "---  ------             --------------  -----  \n",
            " 0   ID_REF             54675 non-null  object \n",
            " 1   VALUE              54675 non-null  float64\n",
            " 2   ABS_CALL           54675 non-null  object \n",
            " 3   DETECTION P-VALUE  54675 non-null  float64\n",
            "dtypes: float64(2), object(2)\n",
            "memory usage: 1.7+ MB\n",
            "None\n"
          ]
        }
      ],
      "source": [
        "print(data.info())"
      ]
    },
    {
      "cell_type": "code",
      "execution_count": 8,
      "metadata": {
        "colab": {
          "base_uri": "https://localhost:8080/"
        },
        "id": "ClpD5oJ7OrI6",
        "outputId": "384919f1-628c-411a-eb2a-431144fff013"
      },
      "outputs": [
        {
          "output_type": "stream",
          "name": "stdout",
          "text": [
            "ID_REF               0\n",
            "VALUE                0\n",
            "ABS_CALL             0\n",
            "DETECTION P-VALUE    0\n",
            "dtype: int64\n"
          ]
        }
      ],
      "source": [
        "print(data.isnull().sum())"
      ]
    },
    {
      "cell_type": "markdown",
      "metadata": {
        "id": "WEX98kdIOrI6"
      },
      "source": [
        "We don't have any null value here so we don't drop any row/col"
      ]
    },
    {
      "cell_type": "code",
      "execution_count": 9,
      "metadata": {
        "colab": {
          "base_uri": "https://localhost:8080/"
        },
        "id": "oOxQ7ihkOrI7",
        "outputId": "4e5e88db-f9ab-4531-fb87-ecdc3a1f037f"
      },
      "outputs": [
        {
          "output_type": "stream",
          "name": "stdout",
          "text": [
            "              VALUE  DETECTION P-VALUE\n",
            "count  54675.000000       5.467500e+04\n",
            "mean      79.754650       2.703439e-01\n",
            "std      354.728380       3.129571e-01\n",
            "min        0.020512       2.606800e-13\n",
            "25%        3.488335       2.929690e-03\n",
            "50%       11.701000       1.115720e-01\n",
            "75%       45.057650       5.000000e-01\n",
            "max     7157.120000       9.997560e-01\n"
          ]
        }
      ],
      "source": [
        "print(data.describe())"
      ]
    },
    {
      "cell_type": "code",
      "execution_count": 10,
      "metadata": {
        "colab": {
          "base_uri": "https://localhost:8080/"
        },
        "id": "iEiCGdyHOrI7",
        "outputId": "31e5e4da-e1b3-415a-eafd-78dabcd769ad"
      },
      "outputs": [
        {
          "output_type": "stream",
          "name": "stdout",
          "text": [
            "ABS_CALL\n",
            "A    30772\n",
            "P    22206\n",
            "M     1697\n",
            "Name: count, dtype: int64\n"
          ]
        }
      ],
      "source": [
        "print(data['ABS_CALL'].value_counts())"
      ]
    },
    {
      "cell_type": "markdown",
      "metadata": {
        "id": "SJHUjpJ6OrI8"
      },
      "source": [
        "This shows us that our categorical value called 'ABS_CALL' has three catergories with it's respective count"
      ]
    },
    {
      "cell_type": "code",
      "execution_count": 11,
      "metadata": {
        "colab": {
          "base_uri": "https://localhost:8080/",
          "height": 488
        },
        "id": "-RCwJdZyOrI8",
        "outputId": "abf4e47c-7cac-4780-82a5-7407ee0bd119"
      },
      "outputs": [
        {
          "output_type": "execute_result",
          "data": {
            "text/plain": [
              "Text(0.5, 1.0, 'ABS_CALL category count')"
            ]
          },
          "metadata": {},
          "execution_count": 11
        },
        {
          "output_type": "display_data",
          "data": {
            "text/plain": [
              "<Figure size 640x480 with 1 Axes>"
            ],
            "image/png": "[encoded data removed]"
          },
          "metadata": {}
        }
      ],
      "source": [
        "sns.countplot(x=\"ABS_CALL\", data=data)\n",
        "plt.title(\"ABS_CALL category count\")"
      ]
    },
    {
      "cell_type": "code",
      "execution_count": 12,
      "metadata": {
        "id": "etuzg9GtOrI8"
      },
      "outputs": [],
      "source": [
        "from sklearn.preprocessing import MinMaxScaler"
      ]
    },
    {
      "cell_type": "code",
      "execution_count": 13,
      "metadata": {
        "id": "WIP45OeCOrI9"
      },
      "outputs": [],
      "source": [
        "scaler = MinMaxScaler()\n",
        "data['VALUE'] = scaler.fit_transform(data[['VALUE']])"
      ]
    },
    {
      "cell_type": "code",
      "execution_count": 14,
      "metadata": {
        "id": "TGABb0OwOrI9"
      },
      "outputs": [],
      "source": [
        "data['ABS_CALL'] = data['ABS_CALL'].map({'P': 1, 'A': 0, 'M': 0.5})"
      ]
    },
    {
      "cell_type": "code",
      "execution_count": 15,
      "metadata": {
        "colab": {
          "base_uri": "https://localhost:8080/",
          "height": 564
        },
        "id": "ZgO7MTfVOrI-",
        "outputId": "734bddf2-1a87-4c38-e81c-d949f1779136"
      },
      "outputs": [
        {
          "output_type": "display_data",
          "data": {
            "text/plain": [
              "<Figure size 1000x600 with 1 Axes>"
            ],
            "image/png": "[encoded data removed]"
          },
          "metadata": {}
        }
      ],
      "source": [
        "plt.figure(figsize=(10, 6))\n",
        "sns.histplot(data['DETECTION P-VALUE'], bins=50, kde=True, color='green')\n",
        "plt.title(\"Distribution of Detection P-Value\")\n",
        "plt.xlabel(\"Detection P-Value\")\n",
        "plt.ylabel(\"Frequency\")\n",
        "plt.show()\n"
      ]
    },
    {
      "cell_type": "code",
      "execution_count": 16,
      "metadata": {
        "colab": {
          "base_uri": "https://localhost:8080/",
          "height": 521
        },
        "id": "kEhXAC_GOrI-",
        "outputId": "b61b44d8-0e37-4f77-84c4-6f13581d15fd"
      },
      "outputs": [
        {
          "output_type": "display_data",
          "data": {
            "text/plain": [
              "<Figure size 800x600 with 1 Axes>"
            ],
            "image/png": "[encoded data removed]"
          },
          "metadata": {}
        }
      ],
      "source": [
        "plt.figure(figsize=(8, 6))\n",
        "data['ABS_CALL'].value_counts().plot(kind='pie', autopct='%1.1f%%', colors=['blue', 'orange', 'gray'])\n",
        "plt.title(\"Proportion of ABS_CALL\")\n",
        "plt.ylabel(\"\")\n",
        "plt.show()\n"
      ]
    },
    {
      "cell_type": "code",
      "execution_count": 17,
      "metadata": {
        "colab": {
          "base_uri": "https://localhost:8080/"
        },
        "id": "tS4YS5SuOrI_",
        "outputId": "cf060dc5-9acd-40f7-e557-8028cb211b3b"
      },
      "outputs": [
        {
          "output_type": "stream",
          "name": "stdout",
          "text": [
            "                ID_REF     VALUE  ABS_CALL  DETECTION P-VALUE\n",
            "846        201257_x_at  1.000000       1.0       2.441410e-04\n",
            "8251       208695_s_at  0.995061       1.0       2.441410e-04\n",
            "352        200763_s_at  0.967207       1.0       2.441410e-04\n",
            "515          200926_at  0.956246       1.0       2.441410e-04\n",
            "11486      212039_x_at  0.953624       1.0       2.441410e-04\n",
            "13443      214003_x_at  0.948420       1.0       2.441410e-04\n",
            "26000      226131_s_at  0.937582       1.0       2.441410e-04\n",
            "306        200717_x_at  0.937525       1.0       2.441410e-04\n",
            "61     AFFX-hum_alu_at  0.936829       1.0       2.606800e-13\n",
            "806        201217_x_at  0.934194       1.0       2.441410e-04\n"
          ]
        }
      ],
      "source": [
        "top_probes = data.sort_values('VALUE', ascending=False).head(10)\n",
        "print(top_probes)\n"
      ]
    },
    {
      "cell_type": "code",
      "execution_count": 20,
      "metadata": {
        "id": "RBjh14fQOrI_"
      },
      "outputs": [],
      "source": [
        "from openai import OpenAI\n",
        "import google.generativeai as genai\n",
        "import json\n",
        "from google.colab import userdata"
      ]
    },
    {
      "cell_type": "code",
      "execution_count": 21,
      "metadata": {
        "id": "IFoNf1lCOrI_"
      },
      "outputs": [],
      "source": [
        "sample_data = data.head(10).to_dict(orient='records')"
      ]
    },
    {
      "cell_type": "code",
      "source": [
        "sample_data_str = json.dumps(sample_data)"
      ],
      "metadata": {
        "id": "V19_X2ufQ82M"
      },
      "execution_count": 22,
      "outputs": []
    },
    {
      "cell_type": "markdown",
      "source": [
        "**NB** - Get a sample Groq Api key from here - https://console.groq.com/keys or make sure to give it access on the collab keys"
      ],
      "metadata": {
        "id": "FlH0X3zhpcwc"
      }
    },
    {
      "cell_type": "code",
      "execution_count": 23,
      "metadata": {
        "id": "Fd__dNsfOrI_"
      },
      "outputs": [],
      "source": [
        "client = OpenAI(\n",
        "  base_url=\"https://api.groq.com/openai/v1\",\n",
        "  api_key=userdata.get(\"GROQ_API_KEY\")\n",
        ")"
      ]
    },
    {
      "cell_type": "code",
      "source": [
        "abstract = f\"\"\"\n",
        "Title\tHPC-PB_donorAF9-35yrs\n",
        "Sample type\tRNA\n",
        "\n",
        "Source name\tHematopoietic progenitor cells (HPC), mobilized peripheral blood of healthy donors (PB, 35 years old).\n",
        "Organism\tHomo sapiens\n",
        "Characteristics\tHematopoietic progenitor cells (HPC) were enriched within the CD34+ cell fraction (selection by magnetic beads and subsequent flow cytometric separation)\n",
        "  from G-CSF mobilized blood from healthy donors for allogeneic blood stem cell transplantation.\n",
        "Donor was 35 years old\n",
        "Biomaterial provider\tUniversity of Heidelberg\n",
        "Treatment protocol\tHPC were collected from fresh umbilical cord blood (CB) or mobilized peripheral blood (PB) after written consent using guidelines approved by the\n",
        "  Ethic Committee on the Use of Human Subjects at the University of Heidelberg. Mononuclear cells were isolated after centrifugation on Ficoll-hypaque (Biochrom KG, Berlin, Germany).\n",
        "  CD34+ cells were enriched with a monoclonal anti-CD34 antibody labeled using magnetic beads on an affinity column (Miltenyi Biotec, Bergisch-Gladbach, Germany).\n",
        "  After additional staining with anti-CD34-APC (Becton Dickinson, San Jose, CA, [BD]) further purification was achieved using the FACS-Vantage-SE flow cytometry system.\n",
        "  Staining with propidium iodide (PI) was performed to allow exclusion of non-viable cells. Reanalysis revealed purity higher than 95%.\n",
        "Growth protocol\tCells were isolated from fresh blood and immediately harvested for subsequent analysis.\n",
        "Extracted molecule\ttotal RNA\n",
        "Extraction protocol\tTotal RNA was isolated using TRIzol reagent (Invitrogen, Paisley, Scotland) according to the manufacturer´s instructions.\n",
        "  RNA quality was controlled using the RNA 6000 Pico LabChip kit (Agilent, Waldbronn, Germany) and quantified with a NanoDrop ND-1000 Spectrophotometer (Nanodrop Technologies, Wilmington, DE, USA).\n",
        "Label\tBiotin\n",
        "Label protocol\t100 ng total RNA was amplified with GeneChip two-cycle cDNA synthesis kit (Affymetrix, High Wycombe, United Kingdom) according to the manufacturers instructions. Quality of amplified RNA was controlled by LabChip technology.\n",
        "\n",
        "Hybridization protocol\tGeneChip Human Genome U133_Plus_2.0 (Affymetrix) were hybridized with 10 µg amplified RNA and washed with a fluidics station 450 (Affymetrix).\n",
        "Scan protocol\tGeneChip Human Genome U133_Plus_2.0 (Affymetrix) were scanned with GeneChip scanner 3000 (Affymetrix)\n",
        "\"\"\""
      ],
      "metadata": {
        "id": "J0A4-oBx5UDl"
      },
      "execution_count": 27,
      "outputs": []
    },
    {
      "cell_type": "code",
      "source": [
        "prompt = f\"\"\" You are an expert Data Analyst, I have a dataset stored in\n",
        "```{sample_data_str}```\n",
        " that I need to analyze. Please examine the first few rows of this data as well as\n",
        " the ```{abstract}```\n",
        "and do the below step by step:\n",
        "\n",
        "1. Generate comprehensive descriptions for each column that explain:\n",
        "   - The data type\n",
        "   - The likely purpose/meaning of the column\n",
        "   - Potential values or ranges\n",
        "   - Any patterns or notable characteristics\n",
        "\n",
        "2. Format your response as a clean JSON object with ``` where:\n",
        "   - Each key is the exact column name\n",
        "   - Each value is a detailed description of that column\n",
        "   - Include a \"data_type\" field for each column\n",
        "\n",
        "3. For example:\n",
        "{{\n",
        "  \"column_name\": {{\n",
        "    \"description\": \"Detailed explanation of what this column represents\",\n",
        "    \"data_type\": \"The data type (integer, string, date, etc.)\",\n",
        "    \"possible_values\": \"Description of the range or categorical values\",\n",
        "    \"notes\": \"Any additional observations about the data\"\n",
        "  }}\n",
        "}}\n",
        "Be definite in your answer!\n",
        "Provide in JSON format only!!!\n",
        "First find relevant information from the abstract then answer the question based\n",
        "on the relevant information.\n",
        "\"\"\"\n",
        "response = client.chat.completions.create(\n",
        "    model=\"llama-3.3-70b-versatile\",\n",
        "    messages=[\n",
        "        {\"role\": \"system\", \"content\": \"You are an expert data analyst.\"},\n",
        "        {\"role\": \"user\", \"content\": prompt}\n",
        "    ]\n",
        ")\n",
        "print(response.choices[0].message.content)"
      ],
      "metadata": {
        "colab": {
          "base_uri": "https://localhost:8080/"
        },
        "id": "5md0whapWRKv",
        "outputId": "96ac527c-b63e-4b00-a8af-3ffbcf20b26a"
      },
      "execution_count": 28,
      "outputs": [
        {
          "output_type": "stream",
          "name": "stdout",
          "text": [
            "```json\n",
            "{\n",
            "  \"ID_REF\": {\n",
            "    \"description\": \"Reference identifier for the microarray probe set\",\n",
            "    \"data_type\": \"string\",\n",
            "    \"possible_values\": \"Unique strings (e.g., AFFX-BioB-5_at) representing different probe sets\",\n",
            "    \"notes\": \"These identifiers are likely used to map the expression data to specific genes or probe sets on the microarray\"\n",
            "  },\n",
            "  \"VALUE\": {\n",
            "    \"description\": \"Expression value for the corresponding probe set\",\n",
            "    \"data_type\": \"float\",\n",
            "    \"possible_values\": \"Continuous values ranging from approximately 0 to 1, representing the intensity of gene expression\",\n",
            "    \"notes\": \"These values are likely the result of signal processing and normalization of the microarray data\"\n",
            "  },\n",
            "  \"ABS_CALL\": {\n",
            "    \"description\": \"Absolute call for the probe set, indicating whether the gene is expressed or not\",\n",
            "    \"data_type\": \"float\",\n",
            "    \"possible_values\": \"Binary values (0 or 1) indicating whether the gene is detected (1) or not detected (0)\",\n",
            "    \"notes\": \"In this dataset, all ABS_CALL values are 1.0, indicating that all genes are detected\"\n",
            "  },\n",
            "  \"DETECTION P-VALUE\": {\n",
            "    \"description\": \"Statistical significance of the detection call for the probe set\",\n",
            "    \"data_type\": \"float\",\n",
            "    \"possible_values\": \"Continuous values ranging from approximately 0 to 1, representing the probability of false detection\",\n",
            "    \"notes\": \"Lower p-values indicate higher confidence in the detection call, and values close to 0 indicate high statistical significance\"\n",
            "  }\n",
            "}\n",
            "```\n"
          ]
        }
      ]
    },
    {
      "cell_type": "markdown",
      "source": [
        "Task 2 - Convert the metadata to first order logic using the LLM\n",
        "\n",
        "Example: Transformed Predicates:\n",
        "- SampleType(CardiacVentricleTotalRNA)\n",
        "- SourceInformation(Mice, CardiacVentricle)\n",
        "- KitUsed(QiagenRNeasyKit)\n",
        "- Manufacturer(Qiagen, RNeasyKit)\n",
        "- ReagentUsed(Trizol)\n",
        "- Manufacturer(Invitrogen, Trizol)\n",
        "- KitUsed(QiagenDNeasyKit)\n",
        "-Manufacturer(Qiagen, DNeasyKit)\n",
        "- DeviceUsed(AffymetrixGeneChipMOE4302.0)\n",
        "- Manufacturer(Affymetrix, GeneChipMOE4302.0)\n"
      ],
      "metadata": {
        "id": "_jNpXyCk230f"
      }
    },
    {
      "cell_type": "code",
      "source": [
        "metadt = gse.metadata.items()\n",
        ""
      ],
      "metadata": {
        "id": "ca_Pb1uhOoQc"
      },
      "execution_count": 40,
      "outputs": []
    },
    {
      "cell_type": "code",
      "source": [
        "metadt"
      ],
      "metadata": {
        "id": "7hBDIsEKPHkN",
        "outputId": "c5fc492e-5606-45b8-9377-c64e9b2684f9",
        "colab": {
          "base_uri": "https://localhost:8080/"
        }
      },
      "execution_count": 41,
      "outputs": [
        {
          "output_type": "execute_result",
          "data": {
            "text/plain": [
              "dict_items([('title', ['Hematopoietic Progenitor Cells of Different Donor Age']), ('geo_accession', ['GSE12277']), ('status', ['Public on Jun 12 2009']), ('submission_date', ['Jul 29 2008']), ('last_update_date', ['Mar 25 2019']), ('pubmed_id', ['19513108']), ('summary', ['In this series we have analyzed the effect of donor age on the gene expression profile of human hematopoietic stem and progenitor cells (HPC). Cells were taken from umbilical cord blood (CB) or from G-CSF mobilized blood of healthy donors for allogeneic blood stem cell transplantation.']), ('overall_design', ['Hematopoietic progenitor cells (HPC) were isolated within the CD34+ cell fraction from fresh human cord blood (CB) or from G-CSF mobilized peripheral blood (PB) as described in detail before (Wagner et al., Blood, 2004, 104:675-684; Wagner et al., Stem cells, 2005, 23:1180-1191; Wagner et al., 2007, 10:2638-2657). Differential gene expression was subsequently compared in the CD34+ samples of different donor age.']), ('type', ['Expression profiling by array']), ('contributor', ['Wolfgang,,Wagner', 'Simone,,Bork', 'Patrick,,Horn', 'Anthony,D,Ho']), ('sample_id', ['GSM308237', 'GSM308239', 'GSM308241', 'GSM308242', 'GSM308244', 'GSM308245', 'GSM308246', 'GSM308247', 'GSM308254', 'GSM308255', 'GSM308317', 'GSM308461', 'GSM308462', 'GSM308463', 'GSM308465', 'GSM308467', 'GSM308469', 'GSM308470', 'GSM308473']), ('contact_name', ['Wolfgang,,Wagner']), ('contact_email', ['wwagner@ukaachen.de']), ('contact_phone', ['+49 241 8088611']), ('contact_laboratory', ['Stem Cell Biology and Cellular Engineering']), ('contact_department', ['Helmholtz Institute for Biomedical Engineering']), ('contact_institute', ['RWTH Aachen University']), ('contact_address', ['Pauwelsstrasse 20']), ('contact_city', ['Aachen']), ('contact_zip/postal_code', ['52074']), ('contact_country', ['Germany']), ('supplementary_file', ['ftp://ftp.ncbi.nlm.nih.gov/geo/series/GSE12nnn/GSE12277/suppl/GSE12277_RAW.tar']), ('platform_id', ['GPL570']), ('platform_taxid', ['9606']), ('sample_taxid', ['9606']), ('relation', ['BioProject: https://www.ncbi.nlm.nih.gov/bioproject/PRJNA113665'])])"
            ]
          },
          "metadata": {},
          "execution_count": 41
        }
      ]
    },
    {
      "cell_type": "code",
      "source": [
        "prompt = f\"\"\" You are an expert in formal logic and knowledge representation. Convert the following abstract into First-Order Logic by defining:\n",
        "\n",
        "1. Predicates that represent key concepts.\n",
        "2. Constants for specific values where applicable.\n",
        "\n",
        "Ensure that:\n",
        "- The predicates accurately capture the meaning of the abstract.\n",
        "- Relationships in-between are well-structured.\n",
        "- Constraints such as are explicitly encoded.\n",
        "- The output follows the structure below:\n",
        "\n",
        "Example Output Format: Transformed Predicates of the abstract\n",
        "Transformed Predicates:\n",
        "SampleType(HPC_PB_donorAF9_35yrs, RNA)\n",
        "SourceInformation(HPC_PB_donorAF9_35yrs, HematopoieticProgenitorCells)\n",
        "SourceInformation(HPC_PB_donorAF9_35yrs, MobilizedPeripheralBlood)\n",
        "SourceInformation(HPC_PB_donorAF9_35yrs, HealthyDonor)\n",
        "Organism(HPC_PB_donorAF9_35yrs, HomoSapiens)\n",
        "Age(HPC_PB_donorAF9_35yrs, 35)\n",
        "BiomaterialProvider(HPC_PB_donorAF9_35yrs, UniversityOfHeidelberg)\n",
        "DonorType(HPC_PB_donorAF9_35yrs, AllogeneicBloodStemCellDonor)\n",
        "CellType(HPC_PB_donorAF9_35yrs, CD34PositiveCells)\n",
        "EnrichmentMethod(HPC_PB_donorAF9_35yrs, MagneticBeads)\n",
        "EnrichmentMethod(HPC_PB_donorAF9_35yrs, FlowCytometricSeparation)\n",
        "IsolationMethod(HPC_PB_donorAF9_35yrs, FicollHypaqueCentrifugation)\n",
        "IsolationMethod(HPC_PB_donorAF9_35yrs, MonoclonalAntiCD34Antibody)\n",
        "KitUsed(HPC_PB_donorAF9_35yrs, MiltenyiBiotecAffinityColumn)\n",
        "KitUsed(HPC_PB_donorAF9_35yrs, FACS_Vantage_SE)\n",
        "ReagentUsed(HPC_PB_donorAF9_35yrs, PropidiumIodide)\n",
        "StainingMethod(HPC_PB_donorAF9_35yrs, AntiCD34_APC)\n",
        "DeviceUsed(HPC_PB_donorAF9_35yrs, AgilentRNA6000PicoLabChip)\n",
        "DeviceUsed(HPC_PB_donorAF9_35yrs, NanoDropND_1000Spectrophotometer)\n",
        "DeviceUsed(HPC_PB_donorAF9_35yrs, GeneChipScanner3000)\n",
        "Manufacturer(MiltenyiBiotec, AffinityColumn)\n",
        "Manufacturer(BiochromKG, FicollHypaque)\n",
        "Manufacturer(BectonDickinson, AntiCD34_APC)\n",
        "Manufacturer(Affymetrix, GeneChipHumanGenomeU133_Plus_2_0)\n",
        "Manufacturer(Invitrogen, TrizolReagent)\n",
        "Manufacturer(Agilent, RNA6000PicoLabChipKit)\n",
        "Manufacturer(NanodropTechnologies, NanoDropND_1000Spectrophotometer)\n",
        "ExtractionMethod(HPC_PB_donorAF9_35yrs, TrizolReagentExtraction)\n",
        "ExtractedMolecule(HPC_PB_donorAF9_35yrs, TotalRNA)\n",
        "LabelingMethod(HPC_PB_donorAF9_35yrs, BiotinLabeling)\n",
        "LabelingMethod(HPC_PB_donorAF9_35yrs, GeneChipTwoCycleCDNASynthesisKit)\n",
        "HybridizationMethod(HPC_PB_donorAF9_35yrs, GeneChipHumanGenomeU133_Plus_2_0Hybridization)\n",
        "ScanMethod(HPC_PB_donorAF9_35yrs, GeneChipScanner3000Scan)\n",
        "\n",
        "\n",
        "- Here is the metadata: ```{metadt}```\n",
        "\n",
        "Provide only the First-Order Logic representation no explanation!!!\n",
        "\"\"\"\n",
        "\n",
        "response = client.chat.completions.create(\n",
        "    model=\"llama-3.3-70b-versatile\",\n",
        "    messages=[\n",
        "        {\"role\": \"system\", \"content\": \"You are an expert in formal logic and knowledge representation.\"},\n",
        "        {\"role\": \"user\", \"content\": prompt}\n",
        "    ]\n",
        ")\n",
        "print(response.choices[0].message.content)"
      ],
      "metadata": {
        "id": "Re-SjFUHjkN0",
        "outputId": "6bb505b2-c4dd-45aa-bf33-7abb5a9f6af0",
        "colab": {
          "base_uri": "https://localhost:8080/"
        }
      },
      "execution_count": 44,
      "outputs": [
        {
          "output_type": "stream",
          "name": "stdout",
          "text": [
            "Transformed Predicates:\n",
            "StudyTitle(GSE12277, \"Hematopoietic Progenitor Cells of Different Donor Age\")\n",
            "GEOAccession(GSE12277, GSE12277)\n",
            "Status(GSE12277, Public)\n",
            "SubmissionDate(GSE12277, \"Jul 29 2008\")\n",
            "LastUpdateDate(GSE12277, \"Mar 25 2019\")\n",
            "PubMedID(GSE12277, \"19513108\")\n",
            "Summary(GSE12277, \"In this series we have analyzed the effect of donor age on the gene expression profile of human hematopoietic stem and progenitor cells (HPC).\")\n",
            "Design(GSE12277, \"Hematopoietic progenitor cells (HPC) were isolated within the CD34+ cell fraction from fresh human cord blood (CB) or from G-CSF mobilized peripheral blood (PB)\")\n",
            "StudyType(GSE12277, \"Expression profiling by array\")\n",
            "Contributor(GSE12277, \"Wolfgang Wagner\")\n",
            "Contributor(GSE12277, \"Simone Bork\")\n",
            "Contributor(GSE12277, \"Patrick Horn\")\n",
            "Contributor(GSE12277, \"Anthony D Ho\")\n",
            "SampleID(GSE12277, GSM308237)\n",
            "SampleID(GSE12277, GSM308239)\n",
            "SampleID(GSE12277, GSM308241)\n",
            "SampleID(GSE12277, GSM308242)\n",
            "SampleID(GSE12277, GSM308244)\n",
            "SampleID(GSE12277, GSM308245)\n",
            "SampleID(GSE12277, GSM308246)\n",
            "SampleID(GSE12277, GSM308247)\n",
            "SampleID(GSE12277, GSM308254)\n",
            "SampleID(GSE12277, GSM308255)\n",
            "SampleID(GSE12277, GSM308317)\n",
            "SampleID(GSE12277, GSM308461)\n",
            "SampleID(GSE12277, GSM308462)\n",
            "SampleID(GSE12277, GSM308463)\n",
            "SampleID(GSE12277, GSM308465)\n",
            "SampleID(GSE12277, GSM308467)\n",
            "SampleID(GSE12277, GSM308469)\n",
            "SampleID(GSE12277, GSM308470)\n",
            "SampleID(GSE12277, GSM308473)\n",
            "ContactName(GSE12277, \"Wolfgang Wagner\")\n",
            "ContactEmail(GSE12277, \"wwagner@ukaachen.de\")\n",
            "ContactPhone(GSE12277, \"+49 241 8088611\")\n",
            "ContactLab(GSE12277, \"Stem Cell Biology and Cellular Engineering\")\n",
            "ContactDepartment(GSE12277, \"Helmholtz Institute for Biomedical Engineering\")\n",
            "ContactInstitute(GSE12277, \"RWTH Aachen University\")\n",
            "ContactAddress(GSE12277, \"Pauwelsstrasse 20\")\n",
            "ContactCity(GSE12277, \"Aachen\")\n",
            "ContactCountry(GSE12277, \"Germany\")\n",
            "SupplementaryFile(GSE12277, \"ftp://ftp.ncbi.nlm.nih.gov/geo/series/GSE12nnn/GSE12277/suppl/GSE12277_RAW.tar\")\n",
            "PlatformID(GSE12277, GPL570)\n",
            "PlatformTaxID(GSE12277, 9606)\n",
            "SampleTaxID(GSE12277, 9606)\n",
            "Relation(GSE12277, \"BioProject: https://www.ncbi.nlm.nih.gov/bioproject/PRJNA113665\")\n",
            "Organism(GSE12277, HomoSapiens)\n",
            "CellType(GSE12277, HematopoieticProgenitorCells)\n",
            "DonorType(GSE12277, HealthyDonor)\n",
            "Age(GSE12277, DifferentDonorAge)\n",
            "BiomaterialProvider(GSE12277, RWTHAachenUniversity)\n",
            "StudyObjective(GSE12277, AnalyzeEffectOfDonorAgeOnGeneExpression)\n",
            "ExperimentalDesign(GSE12277, CompareDifferentialGeneExpression)\n",
            "IsolationMethod(GSE12277, CD34PositiveCellFraction)\n",
            "IsolationMethod(GSE12277, GCSFMobilizedPeripheralBlood)\n",
            "IsolationMethod(GSE12277, FreshHumanCordBlood)\n"
          ]
        }
      ]
    },
    {
      "cell_type": "code",
      "source": [],
      "metadata": {
        "id": "Q05yoTVl48ao"
      },
      "execution_count": 30,
      "outputs": []
    }
  ],
  "metadata": {
    "kernelspec": {
      "display_name": "Python 3",
      "name": "python3"
    },
    "language_info": {
      "codemirror_mode": {
        "name": "ipython",
        "version": 3
      },
      "file_extension": ".py",
      "mimetype": "text/x-python",
      "name": "python",
      "nbconvert_exporter": "python",
      "pygments_lexer": "ipython3",
      "version": "3.11.0"
    },
    "colab": {
      "provenance": [],
      "include_colab_link": true
    }
  },
  "nbformat": 4,
  "nbformat_minor": 0
}